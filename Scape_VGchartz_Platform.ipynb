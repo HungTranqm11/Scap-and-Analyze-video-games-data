{
  "nbformat": 4,
  "nbformat_minor": 0,
  "metadata": {
    "colab": {
      "name": "Scape VGchartz Platform.ipynb",
      "provenance": [],
      "authorship_tag": "ABX9TyOBj8VQP7+wubBbJIRuwtTN"
    },
    "kernelspec": {
      "name": "python3",
      "display_name": "Python 3"
    },
    "language_info": {
      "name": "python"
    }
  },
  "cells": [
    {
      "cell_type": "code",
      "metadata": {
        "id": "WH7Z6VRFLYm2",
        "colab": {
          "base_uri": "https://localhost:8080/"
        },
        "outputId": "3c540a6e-d579-4120-cff6-37fb8efbf307"
      },
      "source": [
        "# install selenium and other resources for crawling data\n",
        "!pip install selenium\n",
        "!apt-get update\n",
        "!apt install chromium-chromedriver"
      ],
      "execution_count": null,
      "outputs": [
        {
          "output_type": "stream",
          "text": [
            "Collecting selenium\n",
            "  Downloading selenium-3.141.0-py2.py3-none-any.whl (904 kB)\n",
            "\u001b[K     |████████████████████████████████| 904 kB 4.4 MB/s \n",
            "\u001b[?25hRequirement already satisfied: urllib3 in /usr/local/lib/python3.7/dist-packages (from selenium) (1.24.3)\n",
            "Installing collected packages: selenium\n",
            "Successfully installed selenium-3.141.0\n",
            "Get:1 http://security.ubuntu.com/ubuntu bionic-security InRelease [88.7 kB]\n",
            "Ign:2 https://developer.download.nvidia.com/compute/cuda/repos/ubuntu1804/x86_64  InRelease\n",
            "Get:3 https://cloud.r-project.org/bin/linux/ubuntu bionic-cran40/ InRelease [3,626 B]\n",
            "Get:4 http://ppa.launchpad.net/c2d4u.team/c2d4u4.0+/ubuntu bionic InRelease [15.9 kB]\n",
            "Ign:5 https://developer.download.nvidia.com/compute/machine-learning/repos/ubuntu1804/x86_64  InRelease\n",
            "Get:6 https://developer.download.nvidia.com/compute/cuda/repos/ubuntu1804/x86_64  Release [697 B]\n",
            "Hit:7 http://archive.ubuntu.com/ubuntu bionic InRelease\n",
            "Hit:8 https://developer.download.nvidia.com/compute/machine-learning/repos/ubuntu1804/x86_64  Release\n",
            "Get:9 https://developer.download.nvidia.com/compute/cuda/repos/ubuntu1804/x86_64  Release.gpg [836 B]\n",
            "Get:10 http://archive.ubuntu.com/ubuntu bionic-updates InRelease [88.7 kB]\n",
            "Get:11 http://security.ubuntu.com/ubuntu bionic-security/restricted amd64 Packages [510 kB]\n",
            "Hit:12 http://ppa.launchpad.net/cran/libgit2/ubuntu bionic InRelease\n",
            "Get:13 http://security.ubuntu.com/ubuntu bionic-security/multiverse amd64 Packages [26.7 kB]\n",
            "Get:14 http://security.ubuntu.com/ubuntu bionic-security/main amd64 Packages [2,263 kB]\n",
            "Get:15 http://archive.ubuntu.com/ubuntu bionic-backports InRelease [74.6 kB]\n",
            "Get:16 http://security.ubuntu.com/ubuntu bionic-security/universe amd64 Packages [1,421 kB]\n",
            "Get:17 http://ppa.launchpad.net/deadsnakes/ppa/ubuntu bionic InRelease [15.9 kB]\n",
            "Get:18 https://cloud.r-project.org/bin/linux/ubuntu bionic-cran40/ Packages [66.2 kB]\n",
            "Get:19 http://ppa.launchpad.net/graphics-drivers/ppa/ubuntu bionic InRelease [21.3 kB]\n",
            "Ign:21 https://developer.download.nvidia.com/compute/cuda/repos/ubuntu1804/x86_64  Packages\n",
            "Get:21 https://developer.download.nvidia.com/compute/cuda/repos/ubuntu1804/x86_64  Packages [695 kB]\n",
            "Get:22 http://ppa.launchpad.net/c2d4u.team/c2d4u4.0+/ubuntu bionic/main Sources [1,786 kB]\n",
            "Get:23 http://archive.ubuntu.com/ubuntu bionic-updates/universe amd64 Packages [2,196 kB]\n",
            "Get:24 http://ppa.launchpad.net/c2d4u.team/c2d4u4.0+/ubuntu bionic/main amd64 Packages [914 kB]\n",
            "Get:25 http://archive.ubuntu.com/ubuntu bionic-updates/restricted amd64 Packages [544 kB]\n",
            "Get:26 http://archive.ubuntu.com/ubuntu bionic-updates/multiverse amd64 Packages [39.4 kB]\n",
            "Get:27 http://archive.ubuntu.com/ubuntu bionic-updates/main amd64 Packages [2,699 kB]\n",
            "Get:28 http://ppa.launchpad.net/deadsnakes/ppa/ubuntu bionic/main amd64 Packages [40.9 kB]\n",
            "Get:29 http://ppa.launchpad.net/graphics-drivers/ppa/ubuntu bionic/main amd64 Packages [44.1 kB]\n",
            "Fetched 13.6 MB in 4s (3,406 kB/s)\n",
            "Reading package lists... Done\n",
            "Reading package lists... Done\n",
            "Building dependency tree       \n",
            "Reading state information... Done\n",
            "The following additional packages will be installed:\n",
            "  chromium-browser chromium-browser-l10n chromium-codecs-ffmpeg-extra\n",
            "Suggested packages:\n",
            "  webaccounts-chromium-extension unity-chromium-extension\n",
            "The following NEW packages will be installed:\n",
            "  chromium-browser chromium-browser-l10n chromium-chromedriver\n",
            "  chromium-codecs-ffmpeg-extra\n",
            "0 upgraded, 4 newly installed, 0 to remove and 108 not upgraded.\n",
            "Need to get 86.0 MB of archives.\n",
            "After this operation, 298 MB of additional disk space will be used.\n",
            "Get:1 http://archive.ubuntu.com/ubuntu bionic-updates/universe amd64 chromium-codecs-ffmpeg-extra amd64 91.0.4472.101-0ubuntu0.18.04.1 [1,124 kB]\n",
            "Get:2 http://archive.ubuntu.com/ubuntu bionic-updates/universe amd64 chromium-browser amd64 91.0.4472.101-0ubuntu0.18.04.1 [76.1 MB]\n",
            "Get:3 http://archive.ubuntu.com/ubuntu bionic-updates/universe amd64 chromium-browser-l10n all 91.0.4472.101-0ubuntu0.18.04.1 [3,937 kB]\n",
            "Get:4 http://archive.ubuntu.com/ubuntu bionic-updates/universe amd64 chromium-chromedriver amd64 91.0.4472.101-0ubuntu0.18.04.1 [4,837 kB]\n",
            "Fetched 86.0 MB in 4s (23.9 MB/s)\n",
            "Selecting previously unselected package chromium-codecs-ffmpeg-extra.\n",
            "(Reading database ... 160837 files and directories currently installed.)\n",
            "Preparing to unpack .../chromium-codecs-ffmpeg-extra_91.0.4472.101-0ubuntu0.18.04.1_amd64.deb ...\n",
            "Unpacking chromium-codecs-ffmpeg-extra (91.0.4472.101-0ubuntu0.18.04.1) ...\n",
            "Selecting previously unselected package chromium-browser.\n",
            "Preparing to unpack .../chromium-browser_91.0.4472.101-0ubuntu0.18.04.1_amd64.deb ...\n",
            "Unpacking chromium-browser (91.0.4472.101-0ubuntu0.18.04.1) ...\n",
            "Selecting previously unselected package chromium-browser-l10n.\n",
            "Preparing to unpack .../chromium-browser-l10n_91.0.4472.101-0ubuntu0.18.04.1_all.deb ...\n",
            "Unpacking chromium-browser-l10n (91.0.4472.101-0ubuntu0.18.04.1) ...\n",
            "Selecting previously unselected package chromium-chromedriver.\n",
            "Preparing to unpack .../chromium-chromedriver_91.0.4472.101-0ubuntu0.18.04.1_amd64.deb ...\n",
            "Unpacking chromium-chromedriver (91.0.4472.101-0ubuntu0.18.04.1) ...\n",
            "Setting up chromium-codecs-ffmpeg-extra (91.0.4472.101-0ubuntu0.18.04.1) ...\n",
            "Setting up chromium-browser (91.0.4472.101-0ubuntu0.18.04.1) ...\n",
            "update-alternatives: using /usr/bin/chromium-browser to provide /usr/bin/x-www-browser (x-www-browser) in auto mode\n",
            "update-alternatives: using /usr/bin/chromium-browser to provide /usr/bin/gnome-www-browser (gnome-www-browser) in auto mode\n",
            "Setting up chromium-chromedriver (91.0.4472.101-0ubuntu0.18.04.1) ...\n",
            "Setting up chromium-browser-l10n (91.0.4472.101-0ubuntu0.18.04.1) ...\n",
            "Processing triggers for man-db (2.8.3-2ubuntu0.1) ...\n",
            "Processing triggers for hicolor-icon-theme (0.17-2) ...\n",
            "Processing triggers for mime-support (3.60ubuntu1) ...\n",
            "Processing triggers for libc-bin (2.27-3ubuntu1.2) ...\n",
            "/sbin/ldconfig.real: /usr/local/lib/python3.7/dist-packages/ideep4py/lib/libmkldnn.so.0 is not a symbolic link\n",
            "\n"
          ],
          "name": "stdout"
        }
      ]
    },
    {
      "cell_type": "code",
      "metadata": {
        "id": "VzYAnIcMLDVc"
      },
      "source": [
        "### IMPORTS ###\n",
        "import re\n",
        "import time\n",
        "import pandas as pd\n",
        "\n",
        "from selenium import webdriver\n",
        "from selenium.common.exceptions import NoSuchElementException"
      ],
      "execution_count": null,
      "outputs": []
    },
    {
      "cell_type": "code",
      "metadata": {
        "id": "rU1NNEZuks1b"
      },
      "source": [
        "DRIVER = None"
      ],
      "execution_count": null,
      "outputs": []
    },
    {
      "cell_type": "code",
      "metadata": {
        "id": "6pb4oeEF86e9"
      },
      "source": [
        "def initialize_driver():\n",
        "    global DRIVER\n",
        "    if DRIVER is None:\n",
        "        print('Initiating driver...')\n",
        "        chrome_options = webdriver.ChromeOptions()\n",
        "        chrome_options.add_argument('-headless') \n",
        "        chrome_options.add_argument('-no-sandbox') \n",
        "        DRIVER = webdriver.Chrome('chromedriver',options=chrome_options)  # Create the new chrome browser with specific options\n",
        "        print('Finished!')"
      ],
      "execution_count": null,
      "outputs": []
    },
    {
      "cell_type": "code",
      "metadata": {
        "id": "CIxcBVkwknTV",
        "colab": {
          "base_uri": "https://localhost:8080/"
        },
        "outputId": "cb2853d1-a1eb-45b3-ba9b-54e7ab2b5672"
      },
      "source": [
        "initialize_driver()"
      ],
      "execution_count": null,
      "outputs": [
        {
          "output_type": "stream",
          "text": [
            "Initiating driver...\n",
            "Finished!\n"
          ],
          "name": "stdout"
        }
      ]
    },
    {
      "cell_type": "code",
      "metadata": {
        "id": "BCbzdtue-vZc"
      },
      "source": [
        "DRIVER.get('https://www.vgchartz.com/analysis/platform_totals/Software/Global/')"
      ],
      "execution_count": null,
      "outputs": []
    },
    {
      "cell_type": "code",
      "metadata": {
        "id": "sCewxJ75k6Ad"
      },
      "source": [
        "# find all class name Chart\n",
        "all_item = DRIVER.find_element_by_class_name('chart')"
      ],
      "execution_count": null,
      "outputs": []
    },
    {
      "cell_type": "code",
      "metadata": {
        "id": "7W-0CkKtlyC_"
      },
      "source": [
        "#find tbody\n",
        "all_item_tbody = all_item.find_element_by_tag_name('tbody')"
      ],
      "execution_count": null,
      "outputs": []
    },
    {
      "cell_type": "code",
      "metadata": {
        "id": "kn_nN8N0pxSZ",
        "colab": {
          "base_uri": "https://localhost:8080/",
          "height": 120
        },
        "outputId": "315e5a53-3179-4dcb-b41d-a51c3ef7f3a1"
      },
      "source": [
        "# overview tag tbody\n",
        "all_item_tbody.get_attribute('outerHTML')"
      ],
      "execution_count": null,
      "outputs": [
        {
          "output_type": "execute_result",
          "data": {
            "application/vnd.google.colaboratory.intrinsic+json": {
              "type": "string"
            },
            "text/plain": [
              "'<tbody>\\n            <tr>\\n              <td>1</td>\\n              <td><a href=\"http://www.vgchartz.com/gamedb/games.php?console=PS2\">PlayStation 2 (PS2)</a></td>\\n              <td><center>658.26</center></td>\\n              <td><center>563.77</center></td>\\n              <td><center>222.60</center></td>\\n              <td><center>217.32</center></td>\\n              <td><center>1,661.95</center></td>\\n            </tr>\\n            <tr>\\n              <td>2</td>\\n              <td><a href=\"http://www.vgchartz.com/gamedb/games.php?console=X360\">Xbox 360 (X360)</a></td>\\n              <td><center>610.56</center></td>\\n              <td><center>281.93</center></td>\\n              <td><center>12.90</center></td>\\n              <td><center>102.64</center></td>\\n              <td><center>1,008.03</center></td>\\n            </tr>\\n            <tr>\\n              <td>3</td>\\n              <td><a href=\"http://www.vgchartz.com/gamedb/games.php?console=PS3\">PlayStation 3 (PS3)</a></td>\\n              <td><center>400.56</center></td>\\n              <td><center>346.10</center></td>\\n              <td><center>82.94</center></td>\\n              <td><center>145.21</center></td>\\n              <td><center>974.81</center></td>\\n            </tr>\\n            <tr>\\n              <td>4</td>\\n              <td><a href=\"http://www.vgchartz.com/gamedb/games.php?console=Wii\">Wii (Wii)</a></td>\\n              <td><center>509.91</center></td>\\n              <td><center>269.66</center></td>\\n              <td><center>69.70</center></td>\\n              <td><center>116.51</center></td>\\n              <td><center>965.78</center></td>\\n            </tr>\\n            <tr>\\n              <td>5</td>\\n              <td><a href=\"http://www.vgchartz.com/gamedb/games.php?console=PS\">PlayStation (PS)</a></td>\\n              <td><center>357.97</center></td>\\n              <td><center>280.90</center></td>\\n              <td><center>244.10</center></td>\\n              <td><center>79.04</center></td>\\n              <td><center>962.01</center></td>\\n            </tr>\\n            <tr>\\n              <td>6</td>\\n              <td><a href=\"http://www.vgchartz.com/gamedb/games.php?console=DS\">Nintendo DS (DS)</a></td>\\n              <td><center>391.01</center></td>\\n              <td><center>195.55</center></td>\\n              <td><center>178.68</center></td>\\n              <td><center>79.50</center></td>\\n              <td><center>844.74</center></td>\\n            </tr>\\n            <tr>\\n              <td>7</td>\\n              <td><a href=\"http://www.vgchartz.com/gamedb/games.php?console=PS4\">PlayStation 4 (PS4)</a></td>\\n              <td><center>211.65</center></td>\\n              <td><center>257.33</center></td>\\n              <td><center>34.75</center></td>\\n              <td><center>92.04</center></td>\\n              <td><center>595.77</center></td>\\n            </tr>\\n            <tr>\\n              <td>8</td>\\n              <td><a href=\"http://www.vgchartz.com/gamedb/games.php?console=NES\">Nintendo Entertainment System (NES)</a></td>\\n              <td><center>228.08</center></td>\\n              <td><center>42.21</center></td>\\n              <td><center>225.86</center></td>\\n              <td><center>5.33</center></td>\\n              <td><center>501.48</center></td>\\n            </tr>\\n            <tr>\\n              <td>9</td>\\n              <td><a href=\"http://www.vgchartz.com/gamedb/games.php?console=GB\">Game Boy (GB)</a></td>\\n              <td><center>187.75</center></td>\\n              <td><center>147.30</center></td>\\n              <td><center>157.06</center></td>\\n              <td><center>9.00</center></td>\\n              <td><center>501.11</center></td>\\n            </tr>\\n            <tr>\\n              <td>10</td>\\n              <td><a href=\"http://www.vgchartz.com/gamedb/games.php?console=SNES\">Super Nintendo Entertainment System (SNES)</a></td>\\n              <td><center>132.98</center></td>\\n              <td><center>47.25</center></td>\\n              <td><center>194.85</center></td>\\n              <td><center>3.98</center></td>\\n              <td><center>379.06</center></td>\\n            </tr>\\n            <tr>\\n              <td>11</td>\\n              <td><a href=\"http://www.vgchartz.com/gamedb/games.php?console=GBA\">Game Boy Advance (GBA)</a></td>\\n              <td><center>211.81</center></td>\\n              <td><center>81.84</center></td>\\n              <td><center>73.10</center></td>\\n              <td><center>10.66</center></td>\\n              <td><center>377.41</center></td>\\n            </tr>\\n            <tr>\\n              <td>12</td>\\n              <td><a href=\"http://www.vgchartz.com/gamedb/games.php?console=3DS\">Nintendo 3DS (3DS)</a></td>\\n              <td><center>102.97</center></td>\\n              <td><center>83.24</center></td>\\n              <td><center>121.94</center></td>\\n              <td><center>17.18</center></td>\\n              <td><center>325.33</center></td>\\n            </tr>\\n            <tr>\\n              <td>13</td>\\n              <td><a href=\"http://www.vgchartz.com/gamedb/games.php?console=PC\">Microsoft Windows (PC)</a></td>\\n              <td><center>132.77</center></td>\\n              <td><center>151.95</center></td>\\n              <td><center>0.17</center></td>\\n              <td><center>28.21</center></td>\\n              <td><center>313.10</center></td>\\n            </tr>\\n            <tr>\\n              <td>14</td>\\n              <td><a href=\"http://www.vgchartz.com/gamedb/games.php?console=PSP\">PlayStation Portable (PSP)</a></td>\\n              <td><center>110.34</center></td>\\n              <td><center>69.95</center></td>\\n              <td><center>78.39</center></td>\\n              <td><center>45.93</center></td>\\n              <td><center>304.61</center></td>\\n            </tr>\\n            <tr>\\n              <td>15</td>\\n              <td><a href=\"http://www.vgchartz.com/gamedb/games.php?console=XB\">Xbox (XB)</a></td>\\n              <td><center>191.80</center></td>\\n              <td><center>65.95</center></td>\\n              <td><center>3.88</center></td>\\n              <td><center>9.83</center></td>\\n              <td><center>271.46</center></td>\\n            </tr>\\n            <tr>\\n              <td>16</td>\\n              <td><a href=\"http://www.vgchartz.com/gamedb/games.php?console=XOne\">Xbox One (XOne)</a></td>\\n              <td><center>162.86</center></td>\\n              <td><center>81.16</center></td>\\n              <td><center>0.50</center></td>\\n              <td><center>24.54</center></td>\\n              <td><center>269.06</center></td>\\n            </tr>\\n            <tr>\\n              <td>17</td>\\n              <td><a href=\"http://www.vgchartz.com/gamedb/games.php?console=N64\">Nintendo 64 (N64)</a></td>\\n              <td><center>139.37</center></td>\\n              <td><center>41.04</center></td>\\n              <td><center>39.75</center></td>\\n              <td><center>5.00</center></td>\\n              <td><center>225.16</center></td>\\n            </tr>\\n            <tr>\\n              <td>18</td>\\n              <td><a href=\"http://www.vgchartz.com/gamedb/games.php?console=GC\">GameCube (GC)</a></td>\\n              <td><center>135.02</center></td>\\n              <td><center>40.00</center></td>\\n              <td><center>27.54</center></td>\\n              <td><center>6.05</center></td>\\n              <td><center>208.61</center></td>\\n            </tr>\\n            <tr>\\n              <td>19</td>\\n              <td><a href=\"http://www.vgchartz.com/gamedb/games.php?console=GEN\">Sega Genesis (GEN)</a></td>\\n              <td><center>95.42</center></td>\\n              <td><center>48.50</center></td>\\n              <td><center>28.43</center></td>\\n              <td><center>3.45</center></td>\\n              <td><center>175.80</center></td>\\n            </tr>\\n            <tr>\\n              <td>20</td>\\n              <td><a href=\"http://www.vgchartz.com/gamedb/games.php?console=iOS\">iOS (iOS)</a></td>\\n              <td><center>61.21</center></td>\\n              <td><center>42.16</center></td>\\n              <td><center>16.06</center></td>\\n              <td><center>14.56</center></td>\\n              <td><center>133.99</center></td>\\n            </tr>\\n            <tr>\\n              <td>21</td>\\n              <td><a href=\"http://www.vgchartz.com/gamedb/games.php?console=2600\">Atari 2600 (2600)</a></td>\\n              <td><center>118.50</center></td>\\n              <td><center>8.40</center></td>\\n              <td><center>0.00</center></td>\\n              <td><center>1.90</center></td>\\n              <td><center>128.80</center></td>\\n            </tr>\\n            <tr>\\n              <td>22</td>\\n              <td><a href=\"http://www.vgchartz.com/gamedb/games.php?console=WiiU\">Wii U (WiiU)</a></td>\\n              <td><center>41.77</center></td>\\n              <td><center>30.21</center></td>\\n              <td><center>14.34</center></td>\\n              <td><center>6.95</center></td>\\n              <td><center>93.27</center></td>\\n            </tr>\\n            <tr>\\n              <td>23</td>\\n              <td><a href=\"http://www.vgchartz.com/gamedb/games.php?console=NS\">Nintendo Switch (NS)</a></td>\\n              <td><center>31.13</center></td>\\n              <td><center>25.21</center></td>\\n              <td><center>13.69</center></td>\\n              <td><center>5.28</center></td>\\n              <td><center>75.31</center></td>\\n            </tr>\\n            <tr>\\n              <td>24</td>\\n              <td><a href=\"http://www.vgchartz.com/gamedb/games.php?console=PSV\">PlayStation Vita (PSV)</a></td>\\n              <td><center>16.24</center></td>\\n              <td><center>16.40</center></td>\\n              <td><center>27.32</center></td>\\n              <td><center>8.57</center></td>\\n              <td><center>68.53</center></td>\\n            </tr>\\n            <tr>\\n              <td>25</td>\\n              <td><a href=\"http://www.vgchartz.com/gamedb/games.php?console=DC\">Dreamcast (DC)</a></td>\\n              <td><center>34.66</center></td>\\n              <td><center>14.05</center></td>\\n              <td><center>15.35</center></td>\\n              <td><center>0.83</center></td>\\n              <td><center>64.89</center></td>\\n            </tr>\\n            <tr>\\n              <td>26</td>\\n              <td><a href=\"http://www.vgchartz.com/gamedb/games.php?console=SAT\">Sega Saturn (SAT)</a></td>\\n              <td><center>6.91</center></td>\\n              <td><center>3.70</center></td>\\n              <td><center>35.67</center></td>\\n              <td><center>1.06</center></td>\\n              <td><center>47.34</center></td>\\n            </tr>\\n            <tr>\\n              <td>27</td>\\n              <td><a href=\"http://www.vgchartz.com/gamedb/games.php?console=GG\">GameGear (GG)</a></td>\\n              <td><center>21.43</center></td>\\n              <td><center>10.05</center></td>\\n              <td><center>6.03</center></td>\\n              <td><center>0.75</center></td>\\n              <td><center>38.26</center></td>\\n            </tr>\\n            <tr>\\n              <td>28</td>\\n              <td><a href=\"http://www.vgchartz.com/gamedb/games.php?console=SCD\">Sega CD (SCD)</a></td>\\n              <td><center>1.03</center></td>\\n              <td><center>0.38</center></td>\\n              <td><center>0.47</center></td>\\n              <td><center>0.08</center></td>\\n              <td><center>1.96</center></td>\\n            </tr>\\n            <tr>\\n              <td>29</td>\\n              <td><a href=\"http://www.vgchartz.com/gamedb/games.php?console=NG\">Neo Geo (NG)</a></td>\\n              <td><center>0.00</center></td>\\n              <td><center>0.00</center></td>\\n              <td><center>1.47</center></td>\\n              <td><center>0.04</center></td>\\n              <td><center>1.51</center></td>\\n            </tr>\\n            <tr>\\n              <td>30</td>\\n              <td><a href=\"http://www.vgchartz.com/gamedb/games.php?console=WS\">WonderSwan (WS)</a></td>\\n              <td><center>0.00</center></td>\\n              <td><center>0.00</center></td>\\n              <td><center>1.46</center></td>\\n              <td><center>0.04</center></td>\\n              <td><center>1.50</center></td>\\n            </tr>\\n            <tr>\\n              <td>31</td>\\n              <td><a href=\"http://www.vgchartz.com/gamedb/games.php?console=TG16\">TurboGrafx-16 (TG16)</a></td>\\n              <td><center>0.00</center></td>\\n              <td><center>0.00</center></td>\\n              <td><center>0.16</center></td>\\n              <td><center>0.00</center></td>\\n              <td><center>0.16</center></td>\\n            </tr>\\n            <tr>\\n              <td>32</td>\\n              <td><a href=\"http://www.vgchartz.com/gamedb/games.php?console=3DO\">3DO Interactive Multiplayer (3DO)</a></td>\\n              <td><center>0.00</center></td>\\n              <td><center>0.00</center></td>\\n              <td><center>0.10</center></td>\\n              <td><center>0.00</center></td>\\n              <td><center>0.10</center></td>\\n            </tr>\\n            <tr>\\n              <td>33</td>\\n              <td><a href=\"http://www.vgchartz.com/gamedb/games.php?console=PCFX\">PC-FX (PCFX)</a></td>\\n              <td><center>0.00</center></td>\\n              <td><center>0.00</center></td>\\n              <td><center>0.03</center></td>\\n              <td><center>0.00</center></td>\\n              <td><center>0.03</center></td>\\n            </tr>\\n            <tr>\\n              <td>34</td>\\n              <td><a href=\"http://www.vgchartz.com/gamedb/games.php?console=7800\">Atari 7800 (7800)</a></td>\\n              <td><center>0.00</center></td>\\n              <td><center>0.00</center></td>\\n              <td><center>0.00</center></td>\\n              <td><center>0.00</center></td>\\n              <td><center>0.00</center></td>\\n            </tr>\\n            <tr>\\n              <td>35</td>\\n              <td><a href=\"http://www.vgchartz.com/gamedb/games.php?console=PS5\">PlayStation 5 (PS5)</a></td>\\n              <td><center>0.00</center></td>\\n              <td><center>0.00</center></td>\\n              <td><center>0.00</center></td>\\n              <td><center>0.00</center></td>\\n              <td><center>0.00</center></td>\\n            </tr>\\n            <tr>\\n              <td>36</td>\\n              <td><a href=\"http://www.vgchartz.com/gamedb/games.php?console=XS\">Xbox Series X/S (XS)</a></td>\\n              <td><center>0.00</center></td>\\n              <td><center>0.00</center></td>\\n              <td><center>0.00</center></td>\\n              <td><center>0.00</center></td>\\n              <td><center>0.00</center></td>\\n            </tr>\\n           </tbody>'"
            ]
          },
          "metadata": {
            "tags": []
          },
          "execution_count": 29
        }
      ]
    },
    {
      "cell_type": "code",
      "metadata": {
        "colab": {
          "base_uri": "https://localhost:8080/"
        },
        "id": "fKjpeaBZqB4E",
        "outputId": "fd8a6273-23b4-4e78-a7f6-40e0c4ffaa31"
      },
      "source": [
        "# find all tag name tr\n",
        "all_item_tr = all_item_tbody.find_elements_by_tag_name('tr')\n",
        "len(all_item_tr)"
      ],
      "execution_count": null,
      "outputs": [
        {
          "output_type": "execute_result",
          "data": {
            "text/plain": [
              "36"
            ]
          },
          "metadata": {
            "tags": []
          },
          "execution_count": 30
        }
      ]
    },
    {
      "cell_type": "code",
      "metadata": {
        "id": "3T9tEg1OqmGO"
      },
      "source": [
        "# variable first element of list tr\n",
        "first_all_item_tr = all_item_tr[0]"
      ],
      "execution_count": null,
      "outputs": []
    },
    {
      "cell_type": "code",
      "metadata": {
        "colab": {
          "base_uri": "https://localhost:8080/",
          "height": 69
        },
        "id": "xHv3RS2bw8Cg",
        "outputId": "7ccbeab5-0f70-4059-ca96-1d87ad171087"
      },
      "source": [
        "# overview all item in first variable\n",
        "first_all_item_tr.get_attribute('outerHTML')"
      ],
      "execution_count": null,
      "outputs": [
        {
          "output_type": "execute_result",
          "data": {
            "application/vnd.google.colaboratory.intrinsic+json": {
              "type": "string"
            },
            "text/plain": [
              "'<tr>\\n              <td>1</td>\\n              <td><a href=\"http://www.vgchartz.com/gamedb/games.php?console=PS2\">PlayStation 2 (PS2)</a></td>\\n              <td><center>658.26</center></td>\\n              <td><center>563.77</center></td>\\n              <td><center>222.60</center></td>\\n              <td><center>217.32</center></td>\\n              <td><center>1,661.95</center></td>\\n            </tr>'"
            ]
          },
          "metadata": {
            "tags": []
          },
          "execution_count": 32
        }
      ]
    },
    {
      "cell_type": "code",
      "metadata": {
        "colab": {
          "base_uri": "https://localhost:8080/",
          "height": 35
        },
        "id": "HEg0YtITrIOb",
        "outputId": "9353927e-5b8b-4c67-f197-0908d9cff5d3"
      },
      "source": [
        "#get name of Platform\n",
        "all_item_tr_name = first_all_item_tr.find_element_by_tag_name('a')\n",
        "all_item_tr_name.text"
      ],
      "execution_count": null,
      "outputs": [
        {
          "output_type": "execute_result",
          "data": {
            "application/vnd.google.colaboratory.intrinsic+json": {
              "type": "string"
            },
            "text/plain": [
              "'PlayStation 2 (PS2)'"
            ]
          },
          "metadata": {
            "tags": []
          },
          "execution_count": 33
        }
      ]
    },
    {
      "cell_type": "code",
      "metadata": {
        "colab": {
          "base_uri": "https://localhost:8080/"
        },
        "id": "PsWRJeUerqXc",
        "outputId": "3f60b37e-d9e6-428a-9098-2d9226f70453"
      },
      "source": [
        "# get sale\n",
        "all_item_tr_center = first_all_item_tr.find_elements_by_tag_name('center')\n",
        "len(all_item_tr_center)"
      ],
      "execution_count": null,
      "outputs": [
        {
          "output_type": "execute_result",
          "data": {
            "text/plain": [
              "5"
            ]
          },
          "metadata": {
            "tags": []
          },
          "execution_count": 34
        }
      ]
    },
    {
      "cell_type": "code",
      "metadata": {
        "colab": {
          "base_uri": "https://localhost:8080/",
          "height": 35
        },
        "id": "Qj7YSHRjr3jE",
        "outputId": "1ce72d3f-6da1-455e-8d57-ac7c0e91cb90"
      },
      "source": [
        "# NA_sales\n",
        "all_item_tr_center_NA = all_item_tr_center[0]\n",
        "all_item_tr_center_NA.text"
      ],
      "execution_count": null,
      "outputs": [
        {
          "output_type": "execute_result",
          "data": {
            "application/vnd.google.colaboratory.intrinsic+json": {
              "type": "string"
            },
            "text/plain": [
              "'658.26'"
            ]
          },
          "metadata": {
            "tags": []
          },
          "execution_count": 35
        }
      ]
    },
    {
      "cell_type": "code",
      "metadata": {
        "colab": {
          "base_uri": "https://localhost:8080/",
          "height": 35
        },
        "id": "TiqJJsWDuKNJ",
        "outputId": "78669916-e849-405d-966b-17ad724c9128"
      },
      "source": [
        "# EU sales\n",
        "all_item_tr_center_EU = all_item_tr_center[1]\n",
        "all_item_tr_center_EU.text"
      ],
      "execution_count": null,
      "outputs": [
        {
          "output_type": "execute_result",
          "data": {
            "application/vnd.google.colaboratory.intrinsic+json": {
              "type": "string"
            },
            "text/plain": [
              "'563.77'"
            ]
          },
          "metadata": {
            "tags": []
          },
          "execution_count": 36
        }
      ]
    },
    {
      "cell_type": "code",
      "metadata": {
        "colab": {
          "base_uri": "https://localhost:8080/",
          "height": 35
        },
        "id": "l9K7tYSpwJJ-",
        "outputId": "e229b81e-ba5a-4a36-a41c-064b86ed0ba1"
      },
      "source": [
        "#Japan sales\n",
        "all_item_tr_center_JP = all_item_tr_center[2]\n",
        "all_item_tr_center_JP.text"
      ],
      "execution_count": null,
      "outputs": [
        {
          "output_type": "execute_result",
          "data": {
            "application/vnd.google.colaboratory.intrinsic+json": {
              "type": "string"
            },
            "text/plain": [
              "'222.60'"
            ]
          },
          "metadata": {
            "tags": []
          },
          "execution_count": 37
        }
      ]
    },
    {
      "cell_type": "code",
      "metadata": {
        "colab": {
          "base_uri": "https://localhost:8080/",
          "height": 35
        },
        "id": "WXmgbAXRwYHZ",
        "outputId": "514b69a9-1b5b-4bb3-ed71-9aa8f75c4625"
      },
      "source": [
        "#Order_sales\n",
        "all_item_tr_center_order_sale = all_item_tr_center[3]\n",
        "all_item_tr_center_order_sale = all_item_tr_center_order_sale.get_attribute('innerHTML')\n",
        "all_item_tr_center_order_sale"
      ],
      "execution_count": null,
      "outputs": [
        {
          "output_type": "execute_result",
          "data": {
            "application/vnd.google.colaboratory.intrinsic+json": {
              "type": "string"
            },
            "text/plain": [
              "'217.32'"
            ]
          },
          "metadata": {
            "tags": []
          },
          "execution_count": 41
        }
      ]
    },
    {
      "cell_type": "code",
      "metadata": {
        "colab": {
          "base_uri": "https://localhost:8080/",
          "height": 35
        },
        "id": "UZwNO6Xbwi3P",
        "outputId": "fe3e5589-b5ef-4d0b-99c2-157427ae7172"
      },
      "source": [
        "# Global_sales\n",
        "all_item_tr_center_Global = all_item_tr_center[4]\n",
        "all_item_tr_center_Global = all_item_tr_center_Global.get_attribute('innerHTML')\n",
        "all_item_tr_center_Global"
      ],
      "execution_count": null,
      "outputs": [
        {
          "output_type": "execute_result",
          "data": {
            "application/vnd.google.colaboratory.intrinsic+json": {
              "type": "string"
            },
            "text/plain": [
              "'1,661.95'"
            ]
          },
          "metadata": {
            "tags": []
          },
          "execution_count": 42
        }
      ]
    },
    {
      "cell_type": "code",
      "metadata": {
        "id": "UpMcdaqTwqId"
      },
      "source": [
        "def get_product_info_single(product_item):\n",
        "    d = {'Platform':'',\n",
        "         'North America':'',\n",
        "         'Europe':'',\n",
        "         'Japan':'',\n",
        "         'Order_Sales':'',\n",
        "         'Global':''\n",
        "         }\n",
        "\n",
        "    # name get Platform through find_element_by_class_name\n",
        "    try:\n",
        "        all_item_tr_name = product_item.find_element_by_tag_name('a')\n",
        "        d['Platform'] = all_item_tr_name.text\n",
        "    except NoSuchElementException:\n",
        "        pass\n",
        "    try:\n",
        "      all_item_tr_center = product_item.find_elements_by_tag_name('center')\n",
        "    except NoSuchElementException:\n",
        "        pass\n",
        "    # get NA from .text\n",
        "    try:\n",
        "        all_item_tr_center_NA = all_item_tr_center[0]\n",
        "        d['North America'] = all_item_tr_center_NA.text\n",
        "    except NoSuchElementException:\n",
        "      pass\n",
        "    try:\n",
        "        all_item_tr_center_EU = all_item_tr_center[1]\n",
        "        d['Europe'] = all_item_tr_center_EU.text\n",
        "    except NoSuchElementException:\n",
        "        pass\n",
        "    \n",
        "    # get japan sales from .text\n",
        "    try:\n",
        "        all_item_tr_center_JP = all_item_tr_center[2]\n",
        "        d['Japan'] = all_item_tr_center_JP.text\n",
        "    except NoSuchElementException:\n",
        "        pass\n",
        "        \n",
        "    \n",
        "    # get order sale from text\n",
        "    try:\n",
        "        all_item_tr_center_order_sale = all_item_tr_center[3]\n",
        "        all_item_tr_center_order_sale = all_item_tr_center_order_sale.get_attribute('innerHTML')\n",
        "        d['Order_Sales'] = all_item_tr_center_order_sale\n",
        "    except NoSuchElementException:\n",
        "        pass\n",
        "    try:\n",
        "        all_item_tr_center_Global = all_item_tr_center[4]\n",
        "        all_item_tr_center_Global = all_item_tr_center_Global.get_attribute('innerHTML')\n",
        "        d['Global'] = all_item_tr_center_Global\n",
        "    except NoSuchElementException:\n",
        "        pass\n",
        "    \n",
        "    return d"
      ],
      "execution_count": null,
      "outputs": []
    },
    {
      "cell_type": "code",
      "metadata": {
        "id": "opLaFVCBztdd"
      },
      "source": [
        "# use for loop get all element of url\n",
        "data_2 =  []\n",
        "for i in range(len(all_item_tr)):\n",
        "  all_item_tr_platform = all_item_tr[i]\n",
        "  temp = get_product_info_single(all_item_tr_platform)\n",
        "  data_2.append(temp)"
      ],
      "execution_count": null,
      "outputs": []
    },
    {
      "cell_type": "code",
      "metadata": {
        "id": "BFU5XUDY11Hs"
      },
      "source": [
        "# Export to csv\n",
        "df = pd.DataFrame(data = data_2, columns=data_2[0].keys())\n",
        "df.to_csv('VGchart_console_software_sales.csv', encoding='utf-8-sig')"
      ],
      "execution_count": null,
      "outputs": []
    }
  ]
}