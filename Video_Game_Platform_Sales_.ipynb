{
  "nbformat": 4,
  "nbformat_minor": 0,
  "metadata": {
    "colab": {
      "name": "Video Game Sales_2.ipynb",
      "provenance": [],
      "authorship_tag": "ABX9TyObfEqy9x7RQw7vCMcjftUQ"
    },
    "kernelspec": {
      "name": "python3",
      "display_name": "Python 3"
    },
    "language_info": {
      "name": "python"
    }
  },
  "cells": [
    {
      "cell_type": "markdown",
      "metadata": {
        "id": "hNMCto9glcyb"
      },
      "source": [
        "# **Import Library and data**"
      ]
    },
    {
      "cell_type": "code",
      "metadata": {
        "id": "eAc1gbgUi6c-"
      },
      "source": [
        "import pandas as pd\n",
        "import seaborn as sns\n",
        "import matplotlib.pyplot as plt\n",
        "import numpy as np"
      ],
      "execution_count": null,
      "outputs": []
    },
    {
      "cell_type": "code",
      "metadata": {
        "colab": {
          "base_uri": "https://localhost:8080/"
        },
        "id": "nUSf9zgEi-O7",
        "outputId": "bebf1d42-ef55-4ab5-a1a3-ea7aca82cf37"
      },
      "source": [
        "# connect to google drive\n",
        "from google.colab import drive\n",
        "drive.mount('/content/gdrive')"
      ],
      "execution_count": null,
      "outputs": [
        {
          "output_type": "stream",
          "text": [
            "Mounted at /content/gdrive\n"
          ],
          "name": "stdout"
        }
      ]
    },
    {
      "cell_type": "code",
      "metadata": {
        "id": "UG6lDK6Ui_pz"
      },
      "source": [
        "df = pd.read_csv('/content/gdrive/MyDrive/Colab Notebooks/Data Scientist/Weekly Project/Week 3 - 4/vgsales.csv')\n",
        "console_sales = pd.read_csv('/content/gdrive/MyDrive/Colab Notebooks/Data Scientist/Weekly Project/Week 3 - 4/VGchart_console_sales.csv')\n",
        "console_sales_game = pd.read_csv('/content/gdrive/MyDrive/Colab Notebooks/Data Scientist/Weekly Project/Week 3 - 4/VGchart_console_software_sales.csv')\n",
        "console_sales_ratio = pd.read_csv('/content/gdrive/MyDrive/Colab Notebooks/Data Scientist/Weekly Project/Week 3 - 4/VGchart_console_ratio.csv')"
      ],
      "execution_count": null,
      "outputs": []
    },
    {
      "cell_type": "markdown",
      "metadata": {
        "id": "dpB00RdWlil_"
      },
      "source": [
        "# **Overview data**"
      ]
    },
    {
      "cell_type": "markdown",
      "metadata": {
        "id": "-wyeNy8QloBE"
      },
      "source": [
        "## **Drop, check duplicate and null**"
      ]
    },
    {
      "cell_type": "code",
      "metadata": {
        "colab": {
          "base_uri": "https://localhost:8080/"
        },
        "id": "50LSiYKxjocO",
        "outputId": "19d244a2-bc09-4aad-baa8-20c54af64295"
      },
      "source": [
        "# df.head()\n",
        "# console_sales.head()\n",
        "# console_game_sales.head()\n",
        "console_sales_ratio.head()"
      ],
      "execution_count": null,
      "outputs": [
        {
          "output_type": "execute_result",
          "data": {
            "text/html": [
              "<div>\n",
              "<style scoped>\n",
              "    .dataframe tbody tr th:only-of-type {\n",
              "        vertical-align: middle;\n",
              "    }\n",
              "\n",
              "    .dataframe tbody tr th {\n",
              "        vertical-align: top;\n",
              "    }\n",
              "\n",
              "    .dataframe thead th {\n",
              "        text-align: right;\n",
              "    }\n",
              "</style>\n",
              "<table border=\"1\" class=\"dataframe\">\n",
              "  <thead>\n",
              "    <tr style=\"text-align: right;\">\n",
              "      <th></th>\n",
              "      <th>Unnamed: 0</th>\n",
              "      <th>Platform</th>\n",
              "      <th>North America</th>\n",
              "      <th>Europe</th>\n",
              "      <th>Japan</th>\n",
              "      <th>Order_Sales</th>\n",
              "      <th>Global</th>\n",
              "    </tr>\n",
              "  </thead>\n",
              "  <tbody>\n",
              "    <tr>\n",
              "      <th>0</th>\n",
              "      <td>0</td>\n",
              "      <td>Xbox 360 (X360)</td>\n",
              "      <td>12.43</td>\n",
              "      <td>10.90</td>\n",
              "      <td>7.77</td>\n",
              "      <td>11.21</td>\n",
              "      <td>11.75</td>\n",
              "    </tr>\n",
              "    <tr>\n",
              "      <th>1</th>\n",
              "      <td>1</td>\n",
              "      <td>PlayStation 3 (PS3)</td>\n",
              "      <td>13.62</td>\n",
              "      <td>9.89</td>\n",
              "      <td>7.92</td>\n",
              "      <td>11.59</td>\n",
              "      <td>11.15</td>\n",
              "    </tr>\n",
              "    <tr>\n",
              "      <th>2</th>\n",
              "      <td>2</td>\n",
              "      <td>Xbox (XB)</td>\n",
              "      <td>12.16</td>\n",
              "      <td>9.20</td>\n",
              "      <td>7.32</td>\n",
              "      <td>8.33</td>\n",
              "      <td>11.01</td>\n",
              "    </tr>\n",
              "    <tr>\n",
              "      <th>3</th>\n",
              "      <td>3</td>\n",
              "      <td>PlayStation 2 (PS2)</td>\n",
              "      <td>12.27</td>\n",
              "      <td>10.20</td>\n",
              "      <td>9.60</td>\n",
              "      <td>8.50</td>\n",
              "      <td>10.54</td>\n",
              "    </tr>\n",
              "    <tr>\n",
              "      <th>4</th>\n",
              "      <td>4</td>\n",
              "      <td>GameCube (GC)</td>\n",
              "      <td>10.76</td>\n",
              "      <td>9.01</td>\n",
              "      <td>6.82</td>\n",
              "      <td>8.52</td>\n",
              "      <td>9.60</td>\n",
              "    </tr>\n",
              "  </tbody>\n",
              "</table>\n",
              "</div>"
            ],
            "text/plain": [
              "   Unnamed: 0             Platform  North America  ...  Japan  Order_Sales  Global\n",
              "0           0      Xbox 360 (X360)          12.43  ...   7.77        11.21   11.75\n",
              "1           1  PlayStation 3 (PS3)          13.62  ...   7.92        11.59   11.15\n",
              "2           2            Xbox (XB)          12.16  ...   7.32         8.33   11.01\n",
              "3           3  PlayStation 2 (PS2)          12.27  ...   9.60         8.50   10.54\n",
              "4           4        GameCube (GC)          10.76  ...   6.82         8.52    9.60\n",
              "\n",
              "[5 rows x 7 columns]"
            ]
          },
          "metadata": {
            "tags": []
          },
          "execution_count": 5
        }
      ]
    },
    {
      "cell_type": "markdown",
      "metadata": {
        "id": "MMvGS6S-l81m"
      },
      "source": [
        "### **Drop columns, change name columns**"
      ]
    },
    {
      "cell_type": "code",
      "metadata": {
        "id": "cszaaLhnj2b_"
      },
      "source": [
        "# console_sales drop columns Unnamed:0 and change name cloumns\n",
        "console_sales.drop(columns='Unnamed: 0', inplace= True)\n",
        "console_sales.rename(columns={'North America': 'NA_Sales','Europe':'EU_Sales','Japan':'JP_Sales','Order_Sales':'Other_Sales','Global':'Global_Sales'},inplace=True)"
      ],
      "execution_count": null,
      "outputs": []
    },
    {
      "cell_type": "code",
      "metadata": {
        "id": "f1kge_q9kL7i"
      },
      "source": [
        "# console_game_sales drop columns Unnamed:0 and change name cloumns\n",
        "console_sales_game.drop(columns='Unnamed: 0', inplace= True)\n",
        "console_sales_game.rename(columns={'North America': 'NA_Sales','Europe':'EU_Sales','Japan':'JP_Sales','Order_Sales':'Other_Sales','Global':'Global_Sales'},inplace=True)"
      ],
      "execution_count": null,
      "outputs": []
    },
    {
      "cell_type": "code",
      "metadata": {
        "id": "a9Q2o6dnkNVh"
      },
      "source": [
        "# console_sales_ratio drop columns Unnamed:0 and change name cloumns\n",
        "console_sales_ratio.drop(columns='Unnamed: 0', inplace= True)\n",
        "console_sales_ratio.rename(columns={'North America': 'NA_Sales','Europe':'EU_Sales','Japan':'JP_Sales','Order_Sales':'Other_Sales','Global':'Global_Sales'},inplace=True)"
      ],
      "execution_count": null,
      "outputs": []
    },
    {
      "cell_type": "code",
      "metadata": {
        "colab": {
          "base_uri": "https://localhost:8080/"
        },
        "id": "ylYL_faMkSqj",
        "outputId": "71c67978-2ac1-465a-fcba-cae4a1b88780"
      },
      "source": [
        "# Overview data after drop console_sales\n",
        "console_sales.info()\n",
        "console_sales.head()"
      ],
      "execution_count": null,
      "outputs": [
        {
          "output_type": "stream",
          "text": [
            "<class 'pandas.core.frame.DataFrame'>\n",
            "RangeIndex: 36 entries, 0 to 35\n",
            "Data columns (total 6 columns):\n",
            " #   Column        Non-Null Count  Dtype  \n",
            "---  ------        --------------  -----  \n",
            " 0   Platform      36 non-null     object \n",
            " 1   NA_Sales      36 non-null     float64\n",
            " 2   EU_Sales      36 non-null     float64\n",
            " 3   JP_Sales      36 non-null     float64\n",
            " 4   Other_Sales   36 non-null     float64\n",
            " 5   Global_Sales  36 non-null     float64\n",
            "dtypes: float64(5), object(1)\n",
            "memory usage: 1.8+ KB\n"
          ],
          "name": "stdout"
        },
        {
          "output_type": "execute_result",
          "data": {
            "text/html": [
              "<div>\n",
              "<style scoped>\n",
              "    .dataframe tbody tr th:only-of-type {\n",
              "        vertical-align: middle;\n",
              "    }\n",
              "\n",
              "    .dataframe tbody tr th {\n",
              "        vertical-align: top;\n",
              "    }\n",
              "\n",
              "    .dataframe thead th {\n",
              "        text-align: right;\n",
              "    }\n",
              "</style>\n",
              "<table border=\"1\" class=\"dataframe\">\n",
              "  <thead>\n",
              "    <tr style=\"text-align: right;\">\n",
              "      <th></th>\n",
              "      <th>Platform</th>\n",
              "      <th>NA_Sales</th>\n",
              "      <th>EU_Sales</th>\n",
              "      <th>JP_Sales</th>\n",
              "      <th>Other_Sales</th>\n",
              "      <th>Global_Sales</th>\n",
              "    </tr>\n",
              "  </thead>\n",
              "  <tbody>\n",
              "    <tr>\n",
              "      <th>0</th>\n",
              "      <td>PlayStation 2 (PS2)</td>\n",
              "      <td>53.65</td>\n",
              "      <td>55.28</td>\n",
              "      <td>23.18</td>\n",
              "      <td>25.57</td>\n",
              "      <td>157.68</td>\n",
              "    </tr>\n",
              "    <tr>\n",
              "      <th>1</th>\n",
              "      <td>Nintendo DS (DS)</td>\n",
              "      <td>57.39</td>\n",
              "      <td>52.07</td>\n",
              "      <td>33.01</td>\n",
              "      <td>12.43</td>\n",
              "      <td>154.90</td>\n",
              "    </tr>\n",
              "    <tr>\n",
              "      <th>2</th>\n",
              "      <td>Game Boy (GB)</td>\n",
              "      <td>43.18</td>\n",
              "      <td>40.05</td>\n",
              "      <td>32.47</td>\n",
              "      <td>2.99</td>\n",
              "      <td>118.69</td>\n",
              "    </tr>\n",
              "    <tr>\n",
              "      <th>3</th>\n",
              "      <td>PlayStation 4 (PS4)</td>\n",
              "      <td>38.31</td>\n",
              "      <td>48.48</td>\n",
              "      <td>9.37</td>\n",
              "      <td>20.10</td>\n",
              "      <td>116.26</td>\n",
              "    </tr>\n",
              "    <tr>\n",
              "      <th>4</th>\n",
              "      <td>PlayStation (PS)</td>\n",
              "      <td>40.78</td>\n",
              "      <td>31.09</td>\n",
              "      <td>21.59</td>\n",
              "      <td>9.04</td>\n",
              "      <td>102.50</td>\n",
              "    </tr>\n",
              "  </tbody>\n",
              "</table>\n",
              "</div>"
            ],
            "text/plain": [
              "              Platform  NA_Sales  EU_Sales  JP_Sales  Other_Sales  Global_Sales\n",
              "0  PlayStation 2 (PS2)     53.65     55.28     23.18        25.57        157.68\n",
              "1     Nintendo DS (DS)     57.39     52.07     33.01        12.43        154.90\n",
              "2        Game Boy (GB)     43.18     40.05     32.47         2.99        118.69\n",
              "3  PlayStation 4 (PS4)     38.31     48.48      9.37        20.10        116.26\n",
              "4     PlayStation (PS)     40.78     31.09     21.59         9.04        102.50"
            ]
          },
          "metadata": {
            "tags": []
          },
          "execution_count": 9
        }
      ]
    },
    {
      "cell_type": "code",
      "metadata": {
        "id": "CHERg6-po0EU"
      },
      "source": [
        "# change values 1,661.95, 1,008.03 to 1661.95, 1008.03\n",
        "console_sales_game['Global_Sales'] = console_sales_game['Global_Sales'].replace({'1,661.95':'1661.95','1,008.03':'1008.03'})"
      ],
      "execution_count": null,
      "outputs": []
    },
    {
      "cell_type": "code",
      "metadata": {
        "id": "izmgMwd_p4rc"
      },
      "source": [
        "# change type to float\n",
        "console_sales_game['Global_Sales'] = console_sales_game['Global_Sales'].astype('float')"
      ],
      "execution_count": null,
      "outputs": []
    },
    {
      "cell_type": "code",
      "metadata": {
        "colab": {
          "base_uri": "https://localhost:8080/"
        },
        "id": "345ZdzCYqRVN",
        "outputId": "a4c1081f-7827-4e7a-8655-a34f6636eb1d"
      },
      "source": [
        "# console_game_sales\n",
        "console_sales_game.info()\n",
        "console_sales_game"
      ],
      "execution_count": null,
      "outputs": [
        {
          "output_type": "stream",
          "text": [
            "<class 'pandas.core.frame.DataFrame'>\n",
            "RangeIndex: 36 entries, 0 to 35\n",
            "Data columns (total 6 columns):\n",
            " #   Column        Non-Null Count  Dtype  \n",
            "---  ------        --------------  -----  \n",
            " 0   Platform      36 non-null     object \n",
            " 1   NA_Sales      36 non-null     float64\n",
            " 2   EU_Sales      36 non-null     float64\n",
            " 3   JP_Sales      36 non-null     float64\n",
            " 4   Other_Sales   36 non-null     float64\n",
            " 5   Global_Sales  36 non-null     float64\n",
            "dtypes: float64(5), object(1)\n",
            "memory usage: 1.8+ KB\n"
          ],
          "name": "stdout"
        },
        {
          "output_type": "execute_result",
          "data": {
            "text/html": [
              "<div>\n",
              "<style scoped>\n",
              "    .dataframe tbody tr th:only-of-type {\n",
              "        vertical-align: middle;\n",
              "    }\n",
              "\n",
              "    .dataframe tbody tr th {\n",
              "        vertical-align: top;\n",
              "    }\n",
              "\n",
              "    .dataframe thead th {\n",
              "        text-align: right;\n",
              "    }\n",
              "</style>\n",
              "<table border=\"1\" class=\"dataframe\">\n",
              "  <thead>\n",
              "    <tr style=\"text-align: right;\">\n",
              "      <th></th>\n",
              "      <th>Platform</th>\n",
              "      <th>NA_Sales</th>\n",
              "      <th>EU_Sales</th>\n",
              "      <th>JP_Sales</th>\n",
              "      <th>Other_Sales</th>\n",
              "      <th>Global_Sales</th>\n",
              "    </tr>\n",
              "  </thead>\n",
              "  <tbody>\n",
              "    <tr>\n",
              "      <th>0</th>\n",
              "      <td>PlayStation 2 (PS2)</td>\n",
              "      <td>658.26</td>\n",
              "      <td>563.77</td>\n",
              "      <td>222.60</td>\n",
              "      <td>217.32</td>\n",
              "      <td>1661.95</td>\n",
              "    </tr>\n",
              "    <tr>\n",
              "      <th>1</th>\n",
              "      <td>Xbox 360 (X360)</td>\n",
              "      <td>610.56</td>\n",
              "      <td>281.93</td>\n",
              "      <td>12.90</td>\n",
              "      <td>102.64</td>\n",
              "      <td>1008.03</td>\n",
              "    </tr>\n",
              "    <tr>\n",
              "      <th>2</th>\n",
              "      <td>PlayStation 3 (PS3)</td>\n",
              "      <td>400.56</td>\n",
              "      <td>346.10</td>\n",
              "      <td>82.94</td>\n",
              "      <td>145.21</td>\n",
              "      <td>974.81</td>\n",
              "    </tr>\n",
              "    <tr>\n",
              "      <th>3</th>\n",
              "      <td>Wii (Wii)</td>\n",
              "      <td>509.91</td>\n",
              "      <td>269.66</td>\n",
              "      <td>69.70</td>\n",
              "      <td>116.51</td>\n",
              "      <td>965.78</td>\n",
              "    </tr>\n",
              "    <tr>\n",
              "      <th>4</th>\n",
              "      <td>PlayStation (PS)</td>\n",
              "      <td>357.97</td>\n",
              "      <td>280.90</td>\n",
              "      <td>244.10</td>\n",
              "      <td>79.04</td>\n",
              "      <td>962.01</td>\n",
              "    </tr>\n",
              "    <tr>\n",
              "      <th>5</th>\n",
              "      <td>Nintendo DS (DS)</td>\n",
              "      <td>391.01</td>\n",
              "      <td>195.55</td>\n",
              "      <td>178.68</td>\n",
              "      <td>79.50</td>\n",
              "      <td>844.74</td>\n",
              "    </tr>\n",
              "    <tr>\n",
              "      <th>6</th>\n",
              "      <td>PlayStation 4 (PS4)</td>\n",
              "      <td>211.65</td>\n",
              "      <td>257.33</td>\n",
              "      <td>34.75</td>\n",
              "      <td>92.04</td>\n",
              "      <td>595.77</td>\n",
              "    </tr>\n",
              "    <tr>\n",
              "      <th>7</th>\n",
              "      <td>Nintendo Entertainment System (NES)</td>\n",
              "      <td>228.08</td>\n",
              "      <td>42.21</td>\n",
              "      <td>225.86</td>\n",
              "      <td>5.33</td>\n",
              "      <td>501.48</td>\n",
              "    </tr>\n",
              "    <tr>\n",
              "      <th>8</th>\n",
              "      <td>Game Boy (GB)</td>\n",
              "      <td>187.75</td>\n",
              "      <td>147.30</td>\n",
              "      <td>157.06</td>\n",
              "      <td>9.00</td>\n",
              "      <td>501.11</td>\n",
              "    </tr>\n",
              "    <tr>\n",
              "      <th>9</th>\n",
              "      <td>Super Nintendo Entertainment System (SNES)</td>\n",
              "      <td>132.98</td>\n",
              "      <td>47.25</td>\n",
              "      <td>194.85</td>\n",
              "      <td>3.98</td>\n",
              "      <td>379.06</td>\n",
              "    </tr>\n",
              "    <tr>\n",
              "      <th>10</th>\n",
              "      <td>Game Boy Advance (GBA)</td>\n",
              "      <td>211.81</td>\n",
              "      <td>81.84</td>\n",
              "      <td>73.10</td>\n",
              "      <td>10.66</td>\n",
              "      <td>377.41</td>\n",
              "    </tr>\n",
              "    <tr>\n",
              "      <th>11</th>\n",
              "      <td>Nintendo 3DS (3DS)</td>\n",
              "      <td>102.97</td>\n",
              "      <td>83.24</td>\n",
              "      <td>121.94</td>\n",
              "      <td>17.18</td>\n",
              "      <td>325.33</td>\n",
              "    </tr>\n",
              "    <tr>\n",
              "      <th>12</th>\n",
              "      <td>Microsoft Windows (PC)</td>\n",
              "      <td>132.77</td>\n",
              "      <td>151.95</td>\n",
              "      <td>0.17</td>\n",
              "      <td>28.21</td>\n",
              "      <td>313.10</td>\n",
              "    </tr>\n",
              "    <tr>\n",
              "      <th>13</th>\n",
              "      <td>PlayStation Portable (PSP)</td>\n",
              "      <td>110.34</td>\n",
              "      <td>69.95</td>\n",
              "      <td>78.39</td>\n",
              "      <td>45.93</td>\n",
              "      <td>304.61</td>\n",
              "    </tr>\n",
              "    <tr>\n",
              "      <th>14</th>\n",
              "      <td>Xbox (XB)</td>\n",
              "      <td>191.80</td>\n",
              "      <td>65.95</td>\n",
              "      <td>3.88</td>\n",
              "      <td>9.83</td>\n",
              "      <td>271.46</td>\n",
              "    </tr>\n",
              "    <tr>\n",
              "      <th>15</th>\n",
              "      <td>Xbox One (XOne)</td>\n",
              "      <td>162.86</td>\n",
              "      <td>81.16</td>\n",
              "      <td>0.50</td>\n",
              "      <td>24.54</td>\n",
              "      <td>269.06</td>\n",
              "    </tr>\n",
              "    <tr>\n",
              "      <th>16</th>\n",
              "      <td>Nintendo 64 (N64)</td>\n",
              "      <td>139.37</td>\n",
              "      <td>41.04</td>\n",
              "      <td>39.75</td>\n",
              "      <td>5.00</td>\n",
              "      <td>225.16</td>\n",
              "    </tr>\n",
              "    <tr>\n",
              "      <th>17</th>\n",
              "      <td>GameCube (GC)</td>\n",
              "      <td>135.02</td>\n",
              "      <td>40.00</td>\n",
              "      <td>27.54</td>\n",
              "      <td>6.05</td>\n",
              "      <td>208.61</td>\n",
              "    </tr>\n",
              "    <tr>\n",
              "      <th>18</th>\n",
              "      <td>Sega Genesis (GEN)</td>\n",
              "      <td>95.42</td>\n",
              "      <td>48.50</td>\n",
              "      <td>28.43</td>\n",
              "      <td>3.45</td>\n",
              "      <td>175.80</td>\n",
              "    </tr>\n",
              "    <tr>\n",
              "      <th>19</th>\n",
              "      <td>iOS (iOS)</td>\n",
              "      <td>61.21</td>\n",
              "      <td>42.16</td>\n",
              "      <td>16.06</td>\n",
              "      <td>14.56</td>\n",
              "      <td>133.99</td>\n",
              "    </tr>\n",
              "    <tr>\n",
              "      <th>20</th>\n",
              "      <td>Atari 2600 (2600)</td>\n",
              "      <td>118.50</td>\n",
              "      <td>8.40</td>\n",
              "      <td>0.00</td>\n",
              "      <td>1.90</td>\n",
              "      <td>128.80</td>\n",
              "    </tr>\n",
              "    <tr>\n",
              "      <th>21</th>\n",
              "      <td>Wii U (WiiU)</td>\n",
              "      <td>41.77</td>\n",
              "      <td>30.21</td>\n",
              "      <td>14.34</td>\n",
              "      <td>6.95</td>\n",
              "      <td>93.27</td>\n",
              "    </tr>\n",
              "    <tr>\n",
              "      <th>22</th>\n",
              "      <td>Nintendo Switch (NS)</td>\n",
              "      <td>31.13</td>\n",
              "      <td>25.21</td>\n",
              "      <td>13.69</td>\n",
              "      <td>5.28</td>\n",
              "      <td>75.31</td>\n",
              "    </tr>\n",
              "    <tr>\n",
              "      <th>23</th>\n",
              "      <td>PlayStation Vita (PSV)</td>\n",
              "      <td>16.24</td>\n",
              "      <td>16.40</td>\n",
              "      <td>27.32</td>\n",
              "      <td>8.57</td>\n",
              "      <td>68.53</td>\n",
              "    </tr>\n",
              "    <tr>\n",
              "      <th>24</th>\n",
              "      <td>Dreamcast (DC)</td>\n",
              "      <td>34.66</td>\n",
              "      <td>14.05</td>\n",
              "      <td>15.35</td>\n",
              "      <td>0.83</td>\n",
              "      <td>64.89</td>\n",
              "    </tr>\n",
              "    <tr>\n",
              "      <th>25</th>\n",
              "      <td>Sega Saturn (SAT)</td>\n",
              "      <td>6.91</td>\n",
              "      <td>3.70</td>\n",
              "      <td>35.67</td>\n",
              "      <td>1.06</td>\n",
              "      <td>47.34</td>\n",
              "    </tr>\n",
              "    <tr>\n",
              "      <th>26</th>\n",
              "      <td>GameGear (GG)</td>\n",
              "      <td>21.43</td>\n",
              "      <td>10.05</td>\n",
              "      <td>6.03</td>\n",
              "      <td>0.75</td>\n",
              "      <td>38.26</td>\n",
              "    </tr>\n",
              "    <tr>\n",
              "      <th>27</th>\n",
              "      <td>Sega CD (SCD)</td>\n",
              "      <td>1.03</td>\n",
              "      <td>0.38</td>\n",
              "      <td>0.47</td>\n",
              "      <td>0.08</td>\n",
              "      <td>1.96</td>\n",
              "    </tr>\n",
              "    <tr>\n",
              "      <th>28</th>\n",
              "      <td>Neo Geo (NG)</td>\n",
              "      <td>0.00</td>\n",
              "      <td>0.00</td>\n",
              "      <td>1.47</td>\n",
              "      <td>0.04</td>\n",
              "      <td>1.51</td>\n",
              "    </tr>\n",
              "    <tr>\n",
              "      <th>29</th>\n",
              "      <td>WonderSwan (WS)</td>\n",
              "      <td>0.00</td>\n",
              "      <td>0.00</td>\n",
              "      <td>1.46</td>\n",
              "      <td>0.04</td>\n",
              "      <td>1.50</td>\n",
              "    </tr>\n",
              "    <tr>\n",
              "      <th>30</th>\n",
              "      <td>TurboGrafx-16 (TG16)</td>\n",
              "      <td>0.00</td>\n",
              "      <td>0.00</td>\n",
              "      <td>0.16</td>\n",
              "      <td>0.00</td>\n",
              "      <td>0.16</td>\n",
              "    </tr>\n",
              "    <tr>\n",
              "      <th>31</th>\n",
              "      <td>3DO Interactive Multiplayer (3DO)</td>\n",
              "      <td>0.00</td>\n",
              "      <td>0.00</td>\n",
              "      <td>0.10</td>\n",
              "      <td>0.00</td>\n",
              "      <td>0.10</td>\n",
              "    </tr>\n",
              "    <tr>\n",
              "      <th>32</th>\n",
              "      <td>PC-FX (PCFX)</td>\n",
              "      <td>0.00</td>\n",
              "      <td>0.00</td>\n",
              "      <td>0.03</td>\n",
              "      <td>0.00</td>\n",
              "      <td>0.03</td>\n",
              "    </tr>\n",
              "    <tr>\n",
              "      <th>33</th>\n",
              "      <td>Atari 7800 (7800)</td>\n",
              "      <td>0.00</td>\n",
              "      <td>0.00</td>\n",
              "      <td>0.00</td>\n",
              "      <td>0.00</td>\n",
              "      <td>0.00</td>\n",
              "    </tr>\n",
              "    <tr>\n",
              "      <th>34</th>\n",
              "      <td>PlayStation 5 (PS5)</td>\n",
              "      <td>0.00</td>\n",
              "      <td>0.00</td>\n",
              "      <td>0.00</td>\n",
              "      <td>0.00</td>\n",
              "      <td>0.00</td>\n",
              "    </tr>\n",
              "    <tr>\n",
              "      <th>35</th>\n",
              "      <td>Xbox Series X/S (XS)</td>\n",
              "      <td>0.00</td>\n",
              "      <td>0.00</td>\n",
              "      <td>0.00</td>\n",
              "      <td>0.00</td>\n",
              "      <td>0.00</td>\n",
              "    </tr>\n",
              "  </tbody>\n",
              "</table>\n",
              "</div>"
            ],
            "text/plain": [
              "                                      Platform  ...  Global_Sales\n",
              "0                          PlayStation 2 (PS2)  ...       1661.95\n",
              "1                              Xbox 360 (X360)  ...       1008.03\n",
              "2                          PlayStation 3 (PS3)  ...        974.81\n",
              "3                                    Wii (Wii)  ...        965.78\n",
              "4                             PlayStation (PS)  ...        962.01\n",
              "5                             Nintendo DS (DS)  ...        844.74\n",
              "6                          PlayStation 4 (PS4)  ...        595.77\n",
              "7          Nintendo Entertainment System (NES)  ...        501.48\n",
              "8                                Game Boy (GB)  ...        501.11\n",
              "9   Super Nintendo Entertainment System (SNES)  ...        379.06\n",
              "10                      Game Boy Advance (GBA)  ...        377.41\n",
              "11                          Nintendo 3DS (3DS)  ...        325.33\n",
              "12                      Microsoft Windows (PC)  ...        313.10\n",
              "13                  PlayStation Portable (PSP)  ...        304.61\n",
              "14                                   Xbox (XB)  ...        271.46\n",
              "15                             Xbox One (XOne)  ...        269.06\n",
              "16                           Nintendo 64 (N64)  ...        225.16\n",
              "17                               GameCube (GC)  ...        208.61\n",
              "18                          Sega Genesis (GEN)  ...        175.80\n",
              "19                                   iOS (iOS)  ...        133.99\n",
              "20                           Atari 2600 (2600)  ...        128.80\n",
              "21                                Wii U (WiiU)  ...         93.27\n",
              "22                        Nintendo Switch (NS)  ...         75.31\n",
              "23                      PlayStation Vita (PSV)  ...         68.53\n",
              "24                              Dreamcast (DC)  ...         64.89\n",
              "25                           Sega Saturn (SAT)  ...         47.34\n",
              "26                               GameGear (GG)  ...         38.26\n",
              "27                               Sega CD (SCD)  ...          1.96\n",
              "28                                Neo Geo (NG)  ...          1.51\n",
              "29                             WonderSwan (WS)  ...          1.50\n",
              "30                        TurboGrafx-16 (TG16)  ...          0.16\n",
              "31           3DO Interactive Multiplayer (3DO)  ...          0.10\n",
              "32                                PC-FX (PCFX)  ...          0.03\n",
              "33                           Atari 7800 (7800)  ...          0.00\n",
              "34                         PlayStation 5 (PS5)  ...          0.00\n",
              "35                        Xbox Series X/S (XS)  ...          0.00\n",
              "\n",
              "[36 rows x 6 columns]"
            ]
          },
          "metadata": {
            "tags": []
          },
          "execution_count": 12
        }
      ]
    },
    {
      "cell_type": "code",
      "metadata": {
        "colab": {
          "base_uri": "https://localhost:8080/"
        },
        "id": "FW7RZlLXmLcL",
        "outputId": "ada5b904-afb3-4a8d-f041-4507716e7c26"
      },
      "source": [
        "# console_sales_ratio Overview console_sales\n",
        "console_sales_ratio.info()\n",
        "console_sales_ratio.head()"
      ],
      "execution_count": null,
      "outputs": [
        {
          "output_type": "stream",
          "text": [
            "<class 'pandas.core.frame.DataFrame'>\n",
            "RangeIndex: 36 entries, 0 to 35\n",
            "Data columns (total 6 columns):\n",
            " #   Column        Non-Null Count  Dtype  \n",
            "---  ------        --------------  -----  \n",
            " 0   Platform      36 non-null     object \n",
            " 1   NA_Sales      36 non-null     float64\n",
            " 2   EU_Sales      36 non-null     float64\n",
            " 3   JP_Sales      36 non-null     float64\n",
            " 4   Other_Sales   36 non-null     float64\n",
            " 5   Global_Sales  36 non-null     float64\n",
            "dtypes: float64(5), object(1)\n",
            "memory usage: 1.8+ KB\n"
          ],
          "name": "stdout"
        },
        {
          "output_type": "execute_result",
          "data": {
            "text/html": [
              "<div>\n",
              "<style scoped>\n",
              "    .dataframe tbody tr th:only-of-type {\n",
              "        vertical-align: middle;\n",
              "    }\n",
              "\n",
              "    .dataframe tbody tr th {\n",
              "        vertical-align: top;\n",
              "    }\n",
              "\n",
              "    .dataframe thead th {\n",
              "        text-align: right;\n",
              "    }\n",
              "</style>\n",
              "<table border=\"1\" class=\"dataframe\">\n",
              "  <thead>\n",
              "    <tr style=\"text-align: right;\">\n",
              "      <th></th>\n",
              "      <th>Platform</th>\n",
              "      <th>NA_Sales</th>\n",
              "      <th>EU_Sales</th>\n",
              "      <th>JP_Sales</th>\n",
              "      <th>Other_Sales</th>\n",
              "      <th>Global_Sales</th>\n",
              "    </tr>\n",
              "  </thead>\n",
              "  <tbody>\n",
              "    <tr>\n",
              "      <th>0</th>\n",
              "      <td>Xbox 360 (X360)</td>\n",
              "      <td>12.43</td>\n",
              "      <td>10.90</td>\n",
              "      <td>7.77</td>\n",
              "      <td>11.21</td>\n",
              "      <td>11.75</td>\n",
              "    </tr>\n",
              "    <tr>\n",
              "      <th>1</th>\n",
              "      <td>PlayStation 3 (PS3)</td>\n",
              "      <td>13.62</td>\n",
              "      <td>9.89</td>\n",
              "      <td>7.92</td>\n",
              "      <td>11.59</td>\n",
              "      <td>11.15</td>\n",
              "    </tr>\n",
              "    <tr>\n",
              "      <th>2</th>\n",
              "      <td>Xbox (XB)</td>\n",
              "      <td>12.16</td>\n",
              "      <td>9.20</td>\n",
              "      <td>7.32</td>\n",
              "      <td>8.33</td>\n",
              "      <td>11.01</td>\n",
              "    </tr>\n",
              "    <tr>\n",
              "      <th>3</th>\n",
              "      <td>PlayStation 2 (PS2)</td>\n",
              "      <td>12.27</td>\n",
              "      <td>10.20</td>\n",
              "      <td>9.60</td>\n",
              "      <td>8.50</td>\n",
              "      <td>10.54</td>\n",
              "    </tr>\n",
              "    <tr>\n",
              "      <th>4</th>\n",
              "      <td>GameCube (GC)</td>\n",
              "      <td>10.76</td>\n",
              "      <td>9.01</td>\n",
              "      <td>6.82</td>\n",
              "      <td>8.52</td>\n",
              "      <td>9.60</td>\n",
              "    </tr>\n",
              "  </tbody>\n",
              "</table>\n",
              "</div>"
            ],
            "text/plain": [
              "              Platform  NA_Sales  EU_Sales  JP_Sales  Other_Sales  Global_Sales\n",
              "0      Xbox 360 (X360)     12.43     10.90      7.77        11.21         11.75\n",
              "1  PlayStation 3 (PS3)     13.62      9.89      7.92        11.59         11.15\n",
              "2            Xbox (XB)     12.16      9.20      7.32         8.33         11.01\n",
              "3  PlayStation 2 (PS2)     12.27     10.20      9.60         8.50         10.54\n",
              "4        GameCube (GC)     10.76      9.01      6.82         8.52          9.60"
            ]
          },
          "metadata": {
            "tags": []
          },
          "execution_count": 13
        }
      ]
    },
    {
      "cell_type": "markdown",
      "metadata": {
        "id": "T_4Yh8gPmhK-"
      },
      "source": [
        "### **check duplicate**"
      ]
    },
    {
      "cell_type": "code",
      "metadata": {
        "colab": {
          "base_uri": "https://localhost:8080/"
        },
        "id": "SSNoxEvsmogX",
        "outputId": "d78ce9f2-86f3-4f82-c7ad-d7d6464dc169"
      },
      "source": [
        "# check df duplicate\n",
        "df.duplicated().sum()"
      ],
      "execution_count": null,
      "outputs": [
        {
          "output_type": "execute_result",
          "data": {
            "text/plain": [
              "0"
            ]
          },
          "metadata": {
            "tags": []
          },
          "execution_count": 14
        }
      ]
    },
    {
      "cell_type": "code",
      "metadata": {
        "colab": {
          "base_uri": "https://localhost:8080/"
        },
        "id": "_p1z78CCmzD5",
        "outputId": "277569df-6f7e-465b-8893-32e55b621526"
      },
      "source": [
        "# check console_sales duplicate\n",
        "console_sales.duplicated().sum()"
      ],
      "execution_count": null,
      "outputs": [
        {
          "output_type": "execute_result",
          "data": {
            "text/plain": [
              "0"
            ]
          },
          "metadata": {
            "tags": []
          },
          "execution_count": 15
        }
      ]
    },
    {
      "cell_type": "code",
      "metadata": {
        "colab": {
          "base_uri": "https://localhost:8080/"
        },
        "id": "GpbqZ1_ym5sA",
        "outputId": "46921161-3a4c-456e-941f-a5daeb550692"
      },
      "source": [
        "# check console_sales_game duplicate\n",
        "console_sales_game.duplicated().sum()"
      ],
      "execution_count": null,
      "outputs": [
        {
          "output_type": "execute_result",
          "data": {
            "text/plain": [
              "0"
            ]
          },
          "metadata": {
            "tags": []
          },
          "execution_count": 16
        }
      ]
    },
    {
      "cell_type": "code",
      "metadata": {
        "colab": {
          "base_uri": "https://localhost:8080/"
        },
        "id": "nSF_KHkwm97S",
        "outputId": "a2de9075-262e-4529-ad7e-34bfeee97afb"
      },
      "source": [
        "# check console_sales_ratio duplicate\n",
        "console_sales_ratio.duplicated().sum()"
      ],
      "execution_count": null,
      "outputs": [
        {
          "output_type": "execute_result",
          "data": {
            "text/plain": [
              "0"
            ]
          },
          "metadata": {
            "tags": []
          },
          "execution_count": 17
        }
      ]
    },
    {
      "cell_type": "markdown",
      "metadata": {
        "id": "WfOtJpesnPoS"
      },
      "source": [
        "### **Check null**"
      ]
    },
    {
      "cell_type": "code",
      "metadata": {
        "colab": {
          "base_uri": "https://localhost:8080/"
        },
        "id": "ZWCNLueXnVfT",
        "outputId": "d6c8ab09-f386-4da4-bfd1-81de68ff93ca"
      },
      "source": [
        "# check df null\n",
        "# df.dropna(inplace=True)\n",
        "df.isnull().sum()"
      ],
      "execution_count": null,
      "outputs": [
        {
          "output_type": "execute_result",
          "data": {
            "text/plain": [
              "Rank              0\n",
              "Name              0\n",
              "Platform          0\n",
              "Year            271\n",
              "Genre             0\n",
              "Publisher        58\n",
              "NA_Sales          0\n",
              "EU_Sales          0\n",
              "JP_Sales          0\n",
              "Other_Sales       0\n",
              "Global_Sales      0\n",
              "dtype: int64"
            ]
          },
          "metadata": {
            "tags": []
          },
          "execution_count": 18
        }
      ]
    },
    {
      "cell_type": "code",
      "metadata": {
        "colab": {
          "base_uri": "https://localhost:8080/"
        },
        "id": "5vzW9CwIndrq",
        "outputId": "24717954-25c1-45b9-d74c-1e6e460928ad"
      },
      "source": [
        "# check console_sales null\n",
        "console_sales.isnull().sum()"
      ],
      "execution_count": null,
      "outputs": [
        {
          "output_type": "execute_result",
          "data": {
            "text/plain": [
              "Platform        0\n",
              "NA_Sales        0\n",
              "EU_Sales        0\n",
              "JP_Sales        0\n",
              "Other_Sales     0\n",
              "Global_Sales    0\n",
              "dtype: int64"
            ]
          },
          "metadata": {
            "tags": []
          },
          "execution_count": 19
        }
      ]
    },
    {
      "cell_type": "code",
      "metadata": {
        "colab": {
          "base_uri": "https://localhost:8080/"
        },
        "id": "n10seADwn1Ha",
        "outputId": "6c3655ee-ad97-48e7-b683-e96a7e7ac720"
      },
      "source": [
        "# check console_sales_game null\n",
        "console_sales_game.isnull().sum()"
      ],
      "execution_count": null,
      "outputs": [
        {
          "output_type": "execute_result",
          "data": {
            "text/plain": [
              "Platform        0\n",
              "NA_Sales        0\n",
              "EU_Sales        0\n",
              "JP_Sales        0\n",
              "Other_Sales     0\n",
              "Global_Sales    0\n",
              "dtype: int64"
            ]
          },
          "metadata": {
            "tags": []
          },
          "execution_count": 20
        }
      ]
    },
    {
      "cell_type": "code",
      "metadata": {
        "colab": {
          "base_uri": "https://localhost:8080/"
        },
        "id": "exnaNP3TvTrd",
        "outputId": "afe99938-37fd-47e4-e190-ceecf4102476"
      },
      "source": [
        "# check console_sales_ratio null\n",
        "console_sales_ratio.isnull().sum()"
      ],
      "execution_count": null,
      "outputs": [
        {
          "output_type": "execute_result",
          "data": {
            "text/plain": [
              "Platform        0\n",
              "NA_Sales        0\n",
              "EU_Sales        0\n",
              "JP_Sales        0\n",
              "Other_Sales     0\n",
              "Global_Sales    0\n",
              "dtype: int64"
            ]
          },
          "metadata": {
            "tags": []
          },
          "execution_count": 21
        }
      ]
    },
    {
      "cell_type": "markdown",
      "metadata": {
        "id": "QqnhLIhexX2i"
      },
      "source": [
        "# **Split platform name to platform fullname and platform**"
      ]
    },
    {
      "cell_type": "markdown",
      "metadata": {
        "id": "tLH39rM5ynWI"
      },
      "source": [
        "## **platform fullname and platform**"
      ]
    },
    {
      "cell_type": "code",
      "metadata": {
        "id": "SIiXtNezzcnB"
      },
      "source": [
        "# function take full name of Platform\n",
        "def get_prefix_fullname(name):\n",
        "    return name.split('(')[0]"
      ],
      "execution_count": null,
      "outputs": []
    },
    {
      "cell_type": "code",
      "metadata": {
        "id": "pqbck15ezcnB"
      },
      "source": [
        "# apply on console_sales\n",
        "console_sales['Platform_Fullname'] = console_sales['Platform'].apply(get_prefix_fullname)"
      ],
      "execution_count": null,
      "outputs": []
    },
    {
      "cell_type": "code",
      "metadata": {
        "id": "xX_-CzB6zcnC"
      },
      "source": [
        "# apply on console_sales_game\n",
        "console_sales_game['Platform_Fullname'] = console_sales_game['Platform'].apply(get_prefix_fullname)"
      ],
      "execution_count": null,
      "outputs": []
    },
    {
      "cell_type": "code",
      "metadata": {
        "id": "pCYDts_9zcnC"
      },
      "source": [
        "# apply on console_sales_ratio\n",
        "console_sales_ratio['Platform_Fullname'] = console_sales_ratio['Platform'].apply(get_prefix_fullname)"
      ],
      "execution_count": null,
      "outputs": []
    },
    {
      "cell_type": "code",
      "metadata": {
        "id": "PLM75rkpK2Hk"
      },
      "source": [
        "# fuction take platform \n",
        "def get_prefix_Platform(name):\n",
        "    return name.split('(')[1].split(')')[0]"
      ],
      "execution_count": null,
      "outputs": []
    },
    {
      "cell_type": "code",
      "metadata": {
        "id": "ITUVmk6kL2SX"
      },
      "source": [
        "# apply on console_sales\n",
        "console_sales['Platform'] = console_sales['Platform'].apply(get_prefix_Platform)"
      ],
      "execution_count": null,
      "outputs": []
    },
    {
      "cell_type": "code",
      "metadata": {
        "id": "pWOfkw0zyIJ4"
      },
      "source": [
        "# apply on console_sales_game\n",
        "console_sales_game['Platform'] = console_sales_game['Platform'].apply(get_prefix_Platform)"
      ],
      "execution_count": null,
      "outputs": []
    },
    {
      "cell_type": "code",
      "metadata": {
        "id": "CR3QxSMfyIfw"
      },
      "source": [
        "# apply on console_sales_ratio\n",
        "console_sales_ratio['Platform'] = console_sales_ratio['Platform'].apply(get_prefix_Platform)"
      ],
      "execution_count": null,
      "outputs": []
    },
    {
      "cell_type": "markdown",
      "metadata": {
        "id": "2PhuYnZZyw6G"
      },
      "source": [
        "## **Overview again**"
      ]
    },
    {
      "cell_type": "code",
      "metadata": {
        "colab": {
          "base_uri": "https://localhost:8080/"
        },
        "id": "2u7KkD8ry_4Z",
        "outputId": "18895871-3111-4688-eb45-f03bcde0cc73"
      },
      "source": [
        "console_sales = console_sales[['Platform_Fullname','Platform','NA_Sales','EU_Sales','JP_Sales','Other_Sales','Global_Sales']]\n",
        "console_sales.head()"
      ],
      "execution_count": null,
      "outputs": [
        {
          "output_type": "execute_result",
          "data": {
            "text/html": [
              "<div>\n",
              "<style scoped>\n",
              "    .dataframe tbody tr th:only-of-type {\n",
              "        vertical-align: middle;\n",
              "    }\n",
              "\n",
              "    .dataframe tbody tr th {\n",
              "        vertical-align: top;\n",
              "    }\n",
              "\n",
              "    .dataframe thead th {\n",
              "        text-align: right;\n",
              "    }\n",
              "</style>\n",
              "<table border=\"1\" class=\"dataframe\">\n",
              "  <thead>\n",
              "    <tr style=\"text-align: right;\">\n",
              "      <th></th>\n",
              "      <th>Platform_Fullname</th>\n",
              "      <th>Platform</th>\n",
              "      <th>NA_Sales</th>\n",
              "      <th>EU_Sales</th>\n",
              "      <th>JP_Sales</th>\n",
              "      <th>Other_Sales</th>\n",
              "      <th>Global_Sales</th>\n",
              "    </tr>\n",
              "  </thead>\n",
              "  <tbody>\n",
              "    <tr>\n",
              "      <th>0</th>\n",
              "      <td>PlayStation 2</td>\n",
              "      <td>PS2</td>\n",
              "      <td>53.65</td>\n",
              "      <td>55.28</td>\n",
              "      <td>23.18</td>\n",
              "      <td>25.57</td>\n",
              "      <td>157.68</td>\n",
              "    </tr>\n",
              "    <tr>\n",
              "      <th>1</th>\n",
              "      <td>Nintendo DS</td>\n",
              "      <td>DS</td>\n",
              "      <td>57.39</td>\n",
              "      <td>52.07</td>\n",
              "      <td>33.01</td>\n",
              "      <td>12.43</td>\n",
              "      <td>154.90</td>\n",
              "    </tr>\n",
              "    <tr>\n",
              "      <th>2</th>\n",
              "      <td>Game Boy</td>\n",
              "      <td>GB</td>\n",
              "      <td>43.18</td>\n",
              "      <td>40.05</td>\n",
              "      <td>32.47</td>\n",
              "      <td>2.99</td>\n",
              "      <td>118.69</td>\n",
              "    </tr>\n",
              "    <tr>\n",
              "      <th>3</th>\n",
              "      <td>PlayStation 4</td>\n",
              "      <td>PS4</td>\n",
              "      <td>38.31</td>\n",
              "      <td>48.48</td>\n",
              "      <td>9.37</td>\n",
              "      <td>20.10</td>\n",
              "      <td>116.26</td>\n",
              "    </tr>\n",
              "    <tr>\n",
              "      <th>4</th>\n",
              "      <td>PlayStation</td>\n",
              "      <td>PS</td>\n",
              "      <td>40.78</td>\n",
              "      <td>31.09</td>\n",
              "      <td>21.59</td>\n",
              "      <td>9.04</td>\n",
              "      <td>102.50</td>\n",
              "    </tr>\n",
              "  </tbody>\n",
              "</table>\n",
              "</div>"
            ],
            "text/plain": [
              "  Platform_Fullname Platform  NA_Sales  ...  JP_Sales  Other_Sales  Global_Sales\n",
              "0    PlayStation 2       PS2     53.65  ...     23.18        25.57        157.68\n",
              "1      Nintendo DS        DS     57.39  ...     33.01        12.43        154.90\n",
              "2         Game Boy        GB     43.18  ...     32.47         2.99        118.69\n",
              "3    PlayStation 4       PS4     38.31  ...      9.37        20.10        116.26\n",
              "4      PlayStation        PS     40.78  ...     21.59         9.04        102.50\n",
              "\n",
              "[5 rows x 7 columns]"
            ]
          },
          "metadata": {
            "tags": []
          },
          "execution_count": 30
        }
      ]
    },
    {
      "cell_type": "code",
      "metadata": {
        "colab": {
          "base_uri": "https://localhost:8080/"
        },
        "id": "Vzli9wFszDKo",
        "outputId": "5406c549-923e-4590-edac-8f1fca454151"
      },
      "source": [
        "console_sales_game = console_sales_game[['Platform_Fullname','Platform','NA_Sales','EU_Sales','JP_Sales','Other_Sales','Global_Sales']]\n",
        "console_sales_game.head()"
      ],
      "execution_count": null,
      "outputs": [
        {
          "output_type": "execute_result",
          "data": {
            "text/html": [
              "<div>\n",
              "<style scoped>\n",
              "    .dataframe tbody tr th:only-of-type {\n",
              "        vertical-align: middle;\n",
              "    }\n",
              "\n",
              "    .dataframe tbody tr th {\n",
              "        vertical-align: top;\n",
              "    }\n",
              "\n",
              "    .dataframe thead th {\n",
              "        text-align: right;\n",
              "    }\n",
              "</style>\n",
              "<table border=\"1\" class=\"dataframe\">\n",
              "  <thead>\n",
              "    <tr style=\"text-align: right;\">\n",
              "      <th></th>\n",
              "      <th>Platform_Fullname</th>\n",
              "      <th>Platform</th>\n",
              "      <th>NA_Sales</th>\n",
              "      <th>EU_Sales</th>\n",
              "      <th>JP_Sales</th>\n",
              "      <th>Other_Sales</th>\n",
              "      <th>Global_Sales</th>\n",
              "    </tr>\n",
              "  </thead>\n",
              "  <tbody>\n",
              "    <tr>\n",
              "      <th>0</th>\n",
              "      <td>PlayStation 2</td>\n",
              "      <td>PS2</td>\n",
              "      <td>658.26</td>\n",
              "      <td>563.77</td>\n",
              "      <td>222.60</td>\n",
              "      <td>217.32</td>\n",
              "      <td>1661.95</td>\n",
              "    </tr>\n",
              "    <tr>\n",
              "      <th>1</th>\n",
              "      <td>Xbox 360</td>\n",
              "      <td>X360</td>\n",
              "      <td>610.56</td>\n",
              "      <td>281.93</td>\n",
              "      <td>12.90</td>\n",
              "      <td>102.64</td>\n",
              "      <td>1008.03</td>\n",
              "    </tr>\n",
              "    <tr>\n",
              "      <th>2</th>\n",
              "      <td>PlayStation 3</td>\n",
              "      <td>PS3</td>\n",
              "      <td>400.56</td>\n",
              "      <td>346.10</td>\n",
              "      <td>82.94</td>\n",
              "      <td>145.21</td>\n",
              "      <td>974.81</td>\n",
              "    </tr>\n",
              "    <tr>\n",
              "      <th>3</th>\n",
              "      <td>Wii</td>\n",
              "      <td>Wii</td>\n",
              "      <td>509.91</td>\n",
              "      <td>269.66</td>\n",
              "      <td>69.70</td>\n",
              "      <td>116.51</td>\n",
              "      <td>965.78</td>\n",
              "    </tr>\n",
              "    <tr>\n",
              "      <th>4</th>\n",
              "      <td>PlayStation</td>\n",
              "      <td>PS</td>\n",
              "      <td>357.97</td>\n",
              "      <td>280.90</td>\n",
              "      <td>244.10</td>\n",
              "      <td>79.04</td>\n",
              "      <td>962.01</td>\n",
              "    </tr>\n",
              "  </tbody>\n",
              "</table>\n",
              "</div>"
            ],
            "text/plain": [
              "  Platform_Fullname Platform  NA_Sales  ...  JP_Sales  Other_Sales  Global_Sales\n",
              "0    PlayStation 2       PS2    658.26  ...    222.60       217.32       1661.95\n",
              "1         Xbox 360      X360    610.56  ...     12.90       102.64       1008.03\n",
              "2    PlayStation 3       PS3    400.56  ...     82.94       145.21        974.81\n",
              "3              Wii       Wii    509.91  ...     69.70       116.51        965.78\n",
              "4      PlayStation        PS    357.97  ...    244.10        79.04        962.01\n",
              "\n",
              "[5 rows x 7 columns]"
            ]
          },
          "metadata": {
            "tags": []
          },
          "execution_count": 31
        }
      ]
    },
    {
      "cell_type": "code",
      "metadata": {
        "colab": {
          "base_uri": "https://localhost:8080/"
        },
        "id": "sf3hFtr02lAE",
        "outputId": "54108a1a-3ac5-4297-9e79-8b85b80faf5a"
      },
      "source": [
        "console_sales_ratio = console_sales_ratio[['Platform_Fullname','Platform','NA_Sales','EU_Sales','JP_Sales','Other_Sales','Global_Sales']]\n",
        "console_sales_ratio.head()"
      ],
      "execution_count": null,
      "outputs": [
        {
          "output_type": "execute_result",
          "data": {
            "text/html": [
              "<div>\n",
              "<style scoped>\n",
              "    .dataframe tbody tr th:only-of-type {\n",
              "        vertical-align: middle;\n",
              "    }\n",
              "\n",
              "    .dataframe tbody tr th {\n",
              "        vertical-align: top;\n",
              "    }\n",
              "\n",
              "    .dataframe thead th {\n",
              "        text-align: right;\n",
              "    }\n",
              "</style>\n",
              "<table border=\"1\" class=\"dataframe\">\n",
              "  <thead>\n",
              "    <tr style=\"text-align: right;\">\n",
              "      <th></th>\n",
              "      <th>Platform_Fullname</th>\n",
              "      <th>Platform</th>\n",
              "      <th>NA_Sales</th>\n",
              "      <th>EU_Sales</th>\n",
              "      <th>JP_Sales</th>\n",
              "      <th>Other_Sales</th>\n",
              "      <th>Global_Sales</th>\n",
              "    </tr>\n",
              "  </thead>\n",
              "  <tbody>\n",
              "    <tr>\n",
              "      <th>0</th>\n",
              "      <td>Xbox 360</td>\n",
              "      <td>X360</td>\n",
              "      <td>12.43</td>\n",
              "      <td>10.90</td>\n",
              "      <td>7.77</td>\n",
              "      <td>11.21</td>\n",
              "      <td>11.75</td>\n",
              "    </tr>\n",
              "    <tr>\n",
              "      <th>1</th>\n",
              "      <td>PlayStation 3</td>\n",
              "      <td>PS3</td>\n",
              "      <td>13.62</td>\n",
              "      <td>9.89</td>\n",
              "      <td>7.92</td>\n",
              "      <td>11.59</td>\n",
              "      <td>11.15</td>\n",
              "    </tr>\n",
              "    <tr>\n",
              "      <th>2</th>\n",
              "      <td>Xbox</td>\n",
              "      <td>XB</td>\n",
              "      <td>12.16</td>\n",
              "      <td>9.20</td>\n",
              "      <td>7.32</td>\n",
              "      <td>8.33</td>\n",
              "      <td>11.01</td>\n",
              "    </tr>\n",
              "    <tr>\n",
              "      <th>3</th>\n",
              "      <td>PlayStation 2</td>\n",
              "      <td>PS2</td>\n",
              "      <td>12.27</td>\n",
              "      <td>10.20</td>\n",
              "      <td>9.60</td>\n",
              "      <td>8.50</td>\n",
              "      <td>10.54</td>\n",
              "    </tr>\n",
              "    <tr>\n",
              "      <th>4</th>\n",
              "      <td>GameCube</td>\n",
              "      <td>GC</td>\n",
              "      <td>10.76</td>\n",
              "      <td>9.01</td>\n",
              "      <td>6.82</td>\n",
              "      <td>8.52</td>\n",
              "      <td>9.60</td>\n",
              "    </tr>\n",
              "  </tbody>\n",
              "</table>\n",
              "</div>"
            ],
            "text/plain": [
              "  Platform_Fullname Platform  NA_Sales  ...  JP_Sales  Other_Sales  Global_Sales\n",
              "0         Xbox 360      X360     12.43  ...      7.77        11.21         11.75\n",
              "1    PlayStation 3       PS3     13.62  ...      7.92        11.59         11.15\n",
              "2             Xbox        XB     12.16  ...      7.32         8.33         11.01\n",
              "3    PlayStation 2       PS2     12.27  ...      9.60         8.50         10.54\n",
              "4         GameCube        GC     10.76  ...      6.82         8.52          9.60\n",
              "\n",
              "[5 rows x 7 columns]"
            ]
          },
          "metadata": {
            "tags": []
          },
          "execution_count": 32
        }
      ]
    },
    {
      "cell_type": "markdown",
      "metadata": {
        "id": "CqmMvef36GjN"
      },
      "source": [
        "# **Manufactor crate and crate dataframe Area**"
      ]
    },
    {
      "cell_type": "markdown",
      "metadata": {
        "id": "01zZH8UIfBIA"
      },
      "source": [
        "## **Manufactor crate**"
      ]
    },
    {
      "cell_type": "code",
      "metadata": {
        "id": "Y6_bDsQ8QenY"
      },
      "source": [
        "# Create function get Manufactor of platform \n",
        "def distribue_platform(x):\n",
        "  if x == 'Wii':\n",
        "    return 'Nintendo'\n",
        "  elif x == 'WiiU':\n",
        "    return 'Nintendo'\n",
        "  elif x == 'NES':\n",
        "    return 'Nintendo'\n",
        "  elif x == 'GB':\n",
        "    return 'Nintendo'\n",
        "  elif x == 'DS':\n",
        "    return 'Nintendo'\n",
        "  elif x == 'N64':\n",
        "    return 'Nintendo'\n",
        "  elif x == 'SNES':\n",
        "    return 'Nintendo'\n",
        "  elif x == 'GBA':\n",
        "    return 'Nintendo'\n",
        "  elif x == '3DS':\n",
        "    return 'Nintendo'\n",
        "  elif x == 'GC':\n",
        "    return 'Nintendo'\n",
        "  elif x == 'NS':\n",
        "    return 'Nintendo'\n",
        "  elif x == 'X360':\n",
        "    return 'Microsoft'\n",
        "  elif x == 'XB':\n",
        "    return 'Microsoft'\n",
        "  elif x == 'XOne':\n",
        "    return 'Microsoft'\n",
        "  elif x == 'XS':\n",
        "    return 'Microsoft'\n",
        "  elif x == 'PS3':\n",
        "    return 'Sony'\n",
        "  elif x == 'PS5':\n",
        "    return 'Sony'  \n",
        "  elif x == 'PS2':\n",
        "    return 'Sony'\n",
        "  elif x == 'PS4':\n",
        "    return 'Sony'\n",
        "  elif x == 'PS':\n",
        "    return 'Sony'\n",
        "  elif x == 'PSP':\n",
        "    return 'Sony'\n",
        "  elif x == 'PSV':\n",
        "    return 'Sony'\n",
        "  elif x == '2600':\n",
        "    return 'Atari'\n",
        "  elif x == '7800':\n",
        "    return 'Atari'\n",
        "  elif x == 'GEN':\n",
        "    return 'Saga'\n",
        "  elif x == 'DC':\n",
        "    return 'Saga'\n",
        "  elif x == 'SAT':\n",
        "    return 'Saga'\n",
        "  elif x == 'SCD':\n",
        "    return 'Saga'\n",
        "  elif x == 'GG':\n",
        "    return 'Saga'\n",
        "  elif x == 'WS':\n",
        "    return 'Namco Bandai'\n",
        "  elif x == 'NG':\n",
        "    return 'SNK'\n",
        "  elif x == 'TG16':\n",
        "    return 'NEC'\n",
        "  elif x == 'PCFX':\n",
        "    return 'NEC'\n",
        "  elif x == '3DO':\n",
        "    return 'Sanyo'\n",
        "  elif x == 'PC':\n",
        "    return 'Order'\n",
        "  elif x == 'iOS':\n",
        "    return 'Apple'"
      ],
      "execution_count": null,
      "outputs": []
    },
    {
      "cell_type": "code",
      "metadata": {
        "id": "WAk7FWB76VVy"
      },
      "source": [
        "# apply to df\n",
        "df['Manufactor'] = df['Platform'].apply(distribue_platform)"
      ],
      "execution_count": null,
      "outputs": []
    },
    {
      "cell_type": "code",
      "metadata": {
        "id": "dA7fc_336XR1"
      },
      "source": [
        "# Get min date year\n",
        "df_year_release = df.groupby('Platform')['Year'].min().reset_index()"
      ],
      "execution_count": null,
      "outputs": []
    },
    {
      "cell_type": "code",
      "metadata": {
        "id": "Z6SJioFj7oA4"
      },
      "source": [
        "#Merge df_year_release and console_sales\n",
        "console_sales_year = pd.merge(console_sales,df_year_release, how='left',on='Platform')"
      ],
      "execution_count": null,
      "outputs": []
    },
    {
      "cell_type": "code",
      "metadata": {
        "colab": {
          "base_uri": "https://localhost:8080/",
          "height": 203
        },
        "id": "dbM-WK4B79IP",
        "outputId": "8f042403-0e3a-4eeb-890a-8c4357c6edf3"
      },
      "source": [
        "# check console_sales_year Null\n",
        "console_sales_year[console_sales_year['Year'].isna()]"
      ],
      "execution_count": null,
      "outputs": [
        {
          "output_type": "execute_result",
          "data": {
            "text/html": [
              "<div>\n",
              "<style scoped>\n",
              "    .dataframe tbody tr th:only-of-type {\n",
              "        vertical-align: middle;\n",
              "    }\n",
              "\n",
              "    .dataframe tbody tr th {\n",
              "        vertical-align: top;\n",
              "    }\n",
              "\n",
              "    .dataframe thead th {\n",
              "        text-align: right;\n",
              "    }\n",
              "</style>\n",
              "<table border=\"1\" class=\"dataframe\">\n",
              "  <thead>\n",
              "    <tr style=\"text-align: right;\">\n",
              "      <th></th>\n",
              "      <th>Platform_Fullname</th>\n",
              "      <th>Platform</th>\n",
              "      <th>NA_Sales</th>\n",
              "      <th>EU_Sales</th>\n",
              "      <th>JP_Sales</th>\n",
              "      <th>Other_Sales</th>\n",
              "      <th>Global_Sales</th>\n",
              "      <th>Year</th>\n",
              "    </tr>\n",
              "  </thead>\n",
              "  <tbody>\n",
              "    <tr>\n",
              "      <th>6</th>\n",
              "      <td>Nintendo Switch</td>\n",
              "      <td>NS</td>\n",
              "      <td>33.15</td>\n",
              "      <td>23.14</td>\n",
              "      <td>20.70</td>\n",
              "      <td>11.98</td>\n",
              "      <td>88.97</td>\n",
              "      <td>NaN</td>\n",
              "    </tr>\n",
              "    <tr>\n",
              "      <th>23</th>\n",
              "      <td>PlayStation 5</td>\n",
              "      <td>PS5</td>\n",
              "      <td>4.18</td>\n",
              "      <td>3.70</td>\n",
              "      <td>0.92</td>\n",
              "      <td>1.43</td>\n",
              "      <td>10.23</td>\n",
              "      <td>NaN</td>\n",
              "    </tr>\n",
              "    <tr>\n",
              "      <th>26</th>\n",
              "      <td>Xbox Series X/S</td>\n",
              "      <td>XS</td>\n",
              "      <td>3.37</td>\n",
              "      <td>1.91</td>\n",
              "      <td>0.07</td>\n",
              "      <td>0.97</td>\n",
              "      <td>6.32</td>\n",
              "      <td>NaN</td>\n",
              "    </tr>\n",
              "    <tr>\n",
              "      <th>27</th>\n",
              "      <td>Atari 7800</td>\n",
              "      <td>7800</td>\n",
              "      <td>4.30</td>\n",
              "      <td>0.00</td>\n",
              "      <td>0.00</td>\n",
              "      <td>0.00</td>\n",
              "      <td>4.30</td>\n",
              "      <td>NaN</td>\n",
              "    </tr>\n",
              "    <tr>\n",
              "      <th>31</th>\n",
              "      <td>iOS</td>\n",
              "      <td>iOS</td>\n",
              "      <td>0.00</td>\n",
              "      <td>0.00</td>\n",
              "      <td>0.00</td>\n",
              "      <td>0.00</td>\n",
              "      <td>0.00</td>\n",
              "      <td>NaN</td>\n",
              "    </tr>\n",
              "  </tbody>\n",
              "</table>\n",
              "</div>"
            ],
            "text/plain": [
              "   Platform_Fullname Platform  NA_Sales  ...  Other_Sales  Global_Sales  Year\n",
              "6   Nintendo Switch        NS     33.15  ...        11.98         88.97   NaN\n",
              "23    PlayStation 5       PS5      4.18  ...         1.43         10.23   NaN\n",
              "26  Xbox Series X/S        XS      3.37  ...         0.97          6.32   NaN\n",
              "27       Atari 7800      7800      4.30  ...         0.00          4.30   NaN\n",
              "31              iOS       iOS      0.00  ...         0.00          0.00   NaN\n",
              "\n",
              "[5 rows x 8 columns]"
            ]
          },
          "metadata": {
            "tags": []
          },
          "execution_count": 61
        }
      ]
    },
    {
      "cell_type": "code",
      "metadata": {
        "id": "2NQN1hH1Hxj-"
      },
      "source": [
        "# fillna values\n",
        "console_sales_year.iloc[6] = console_sales_year.iloc[6].fillna('2017')\n",
        "console_sales_year.iloc[23] = console_sales_year.iloc[23].fillna('2020')\n",
        "console_sales_year.iloc[26] = console_sales_year.iloc[26].fillna('2020')\n",
        "console_sales_year.iloc[27] = console_sales_year.iloc[27].fillna('1986')"
      ],
      "execution_count": null,
      "outputs": []
    },
    {
      "cell_type": "code",
      "metadata": {
        "id": "lJpaMwZFLozZ"
      },
      "source": [
        "# drop row\n",
        "console_sales_year.drop(index=[29,30,31,32,33,34,35],inplace=True)"
      ],
      "execution_count": null,
      "outputs": []
    },
    {
      "cell_type": "code",
      "metadata": {
        "id": "yRrs2CC8R-oU"
      },
      "source": [
        "#Crate columns Manufactor in console_sales_year\n",
        "console_sales_year['Manufactor'] = console_sales_year['Platform'].apply(distribue_platform)"
      ],
      "execution_count": null,
      "outputs": []
    },
    {
      "cell_type": "code",
      "metadata": {
        "id": "57RIQonVm9l-"
      },
      "source": [
        "console_sales_game['Manufactor'] = console_sales_game['Platform'].apply(distribue_platform)"
      ],
      "execution_count": null,
      "outputs": []
    },
    {
      "cell_type": "code",
      "metadata": {
        "id": "SXm1aSpGqSzP"
      },
      "source": [
        "console_sales_ratio['Manufactor'] = console_sales_ratio['Platform'].apply(distribue_platform)"
      ],
      "execution_count": null,
      "outputs": []
    },
    {
      "cell_type": "markdown",
      "metadata": {
        "id": "s3oOijZBeGzh"
      },
      "source": [
        "## **Console by Area**"
      ]
    },
    {
      "cell_type": "code",
      "metadata": {
        "colab": {
          "base_uri": "https://localhost:8080/"
        },
        "id": "HWaIdGfUc1rE",
        "outputId": "5590226f-6394-4e64-a805-a2cfc7b8f41f"
      },
      "source": [
        "console_Manu_NA = console_sales_year.groupby('Manufactor')['NA_Sales'].sum().reset_index()\n",
        "console_Manu_NA"
      ],
      "execution_count": null,
      "outputs": [
        {
          "output_type": "execute_result",
          "data": {
            "text/html": [
              "<div>\n",
              "<style scoped>\n",
              "    .dataframe tbody tr th:only-of-type {\n",
              "        vertical-align: middle;\n",
              "    }\n",
              "\n",
              "    .dataframe tbody tr th {\n",
              "        vertical-align: top;\n",
              "    }\n",
              "\n",
              "    .dataframe thead th {\n",
              "        text-align: right;\n",
              "    }\n",
              "</style>\n",
              "<table border=\"1\" class=\"dataframe\">\n",
              "  <thead>\n",
              "    <tr style=\"text-align: right;\">\n",
              "      <th></th>\n",
              "      <th>Manufactor</th>\n",
              "      <th>NA_Sales</th>\n",
              "    </tr>\n",
              "  </thead>\n",
              "  <tbody>\n",
              "    <tr>\n",
              "      <th>0</th>\n",
              "      <td>Atari</td>\n",
              "      <td>23.54</td>\n",
              "    </tr>\n",
              "    <tr>\n",
              "      <th>1</th>\n",
              "      <td>Microsoft</td>\n",
              "      <td>97.15</td>\n",
              "    </tr>\n",
              "    <tr>\n",
              "      <th>2</th>\n",
              "      <td>Namco Bandai</td>\n",
              "      <td>0.00</td>\n",
              "    </tr>\n",
              "    <tr>\n",
              "      <th>3</th>\n",
              "      <td>Nintendo</td>\n",
              "      <td>340.65</td>\n",
              "    </tr>\n",
              "    <tr>\n",
              "      <th>4</th>\n",
              "      <td>Saga</td>\n",
              "      <td>28.11</td>\n",
              "    </tr>\n",
              "    <tr>\n",
              "      <th>5</th>\n",
              "      <td>Sony</td>\n",
              "      <td>190.39</td>\n",
              "    </tr>\n",
              "  </tbody>\n",
              "</table>\n",
              "</div>"
            ],
            "text/plain": [
              "     Manufactor  NA_Sales\n",
              "0         Atari     23.54\n",
              "1     Microsoft     97.15\n",
              "2  Namco Bandai      0.00\n",
              "3      Nintendo    340.65\n",
              "4          Saga     28.11\n",
              "5          Sony    190.39"
            ]
          },
          "metadata": {
            "tags": []
          },
          "execution_count": 41
        }
      ]
    },
    {
      "cell_type": "code",
      "metadata": {
        "colab": {
          "base_uri": "https://localhost:8080/"
        },
        "id": "snqVG0Atc-xn",
        "outputId": "c0167473-a491-4e95-9b1e-2859caf3c655"
      },
      "source": [
        "console_Manu_EU = console_sales_year.groupby('Manufactor')['EU_Sales'].sum().reset_index()\n",
        "console_Manu_EU"
      ],
      "execution_count": null,
      "outputs": [
        {
          "output_type": "execute_result",
          "data": {
            "text/html": [
              "<div>\n",
              "<style scoped>\n",
              "    .dataframe tbody tr th:only-of-type {\n",
              "        vertical-align: middle;\n",
              "    }\n",
              "\n",
              "    .dataframe tbody tr th {\n",
              "        vertical-align: top;\n",
              "    }\n",
              "\n",
              "    .dataframe thead th {\n",
              "        text-align: right;\n",
              "    }\n",
              "</style>\n",
              "<table border=\"1\" class=\"dataframe\">\n",
              "  <thead>\n",
              "    <tr style=\"text-align: right;\">\n",
              "      <th></th>\n",
              "      <th>Manufactor</th>\n",
              "      <th>EU_Sales</th>\n",
              "    </tr>\n",
              "  </thead>\n",
              "  <tbody>\n",
              "    <tr>\n",
              "      <th>0</th>\n",
              "      <td>Atari</td>\n",
              "      <td>3.35</td>\n",
              "    </tr>\n",
              "    <tr>\n",
              "      <th>1</th>\n",
              "      <td>Microsoft</td>\n",
              "      <td>45.47</td>\n",
              "    </tr>\n",
              "    <tr>\n",
              "      <th>2</th>\n",
              "      <td>Namco Bandai</td>\n",
              "      <td>0.00</td>\n",
              "    </tr>\n",
              "    <tr>\n",
              "      <th>3</th>\n",
              "      <td>Nintendo</td>\n",
              "      <td>222.30</td>\n",
              "    </tr>\n",
              "    <tr>\n",
              "      <th>4</th>\n",
              "      <td>Saga</td>\n",
              "      <td>14.65</td>\n",
              "    </tr>\n",
              "    <tr>\n",
              "      <th>5</th>\n",
              "      <td>Sony</td>\n",
              "      <td>203.19</td>\n",
              "    </tr>\n",
              "  </tbody>\n",
              "</table>\n",
              "</div>"
            ],
            "text/plain": [
              "     Manufactor  EU_Sales\n",
              "0         Atari      3.35\n",
              "1     Microsoft     45.47\n",
              "2  Namco Bandai      0.00\n",
              "3      Nintendo    222.30\n",
              "4          Saga     14.65\n",
              "5          Sony    203.19"
            ]
          },
          "metadata": {
            "tags": []
          },
          "execution_count": 42
        }
      ]
    },
    {
      "cell_type": "code",
      "metadata": {
        "colab": {
          "base_uri": "https://localhost:8080/"
        },
        "id": "I3X0NcSedF2v",
        "outputId": "0c830f6a-a89c-4e3c-f9eb-831a2bfafbab"
      },
      "source": [
        "console_Manu_JP = console_sales_year.groupby('Manufactor')['JP_Sales'].sum().reset_index()\n",
        "console_Manu_JP"
      ],
      "execution_count": null,
      "outputs": [
        {
          "output_type": "execute_result",
          "data": {
            "text/html": [
              "<div>\n",
              "<style scoped>\n",
              "    .dataframe tbody tr th:only-of-type {\n",
              "        vertical-align: middle;\n",
              "    }\n",
              "\n",
              "    .dataframe tbody tr th {\n",
              "        vertical-align: top;\n",
              "    }\n",
              "\n",
              "    .dataframe thead th {\n",
              "        text-align: right;\n",
              "    }\n",
              "</style>\n",
              "<table border=\"1\" class=\"dataframe\">\n",
              "  <thead>\n",
              "    <tr style=\"text-align: right;\">\n",
              "      <th></th>\n",
              "      <th>Manufactor</th>\n",
              "      <th>JP_Sales</th>\n",
              "    </tr>\n",
              "  </thead>\n",
              "  <tbody>\n",
              "    <tr>\n",
              "      <th>0</th>\n",
              "      <td>Atari</td>\n",
              "      <td>0.00</td>\n",
              "    </tr>\n",
              "    <tr>\n",
              "      <th>1</th>\n",
              "      <td>Microsoft</td>\n",
              "      <td>2.31</td>\n",
              "    </tr>\n",
              "    <tr>\n",
              "      <th>2</th>\n",
              "      <td>Namco Bandai</td>\n",
              "      <td>1.12</td>\n",
              "    </tr>\n",
              "    <tr>\n",
              "      <th>3</th>\n",
              "      <td>Nintendo</td>\n",
              "      <td>190.00</td>\n",
              "    </tr>\n",
              "    <tr>\n",
              "      <th>4</th>\n",
              "      <td>Saga</td>\n",
              "      <td>13.41</td>\n",
              "    </tr>\n",
              "    <tr>\n",
              "      <th>5</th>\n",
              "      <td>Sony</td>\n",
              "      <td>91.46</td>\n",
              "    </tr>\n",
              "  </tbody>\n",
              "</table>\n",
              "</div>"
            ],
            "text/plain": [
              "     Manufactor  JP_Sales\n",
              "0         Atari      0.00\n",
              "1     Microsoft      2.31\n",
              "2  Namco Bandai      1.12\n",
              "3      Nintendo    190.00\n",
              "4          Saga     13.41\n",
              "5          Sony     91.46"
            ]
          },
          "metadata": {
            "tags": []
          },
          "execution_count": 43
        }
      ]
    },
    {
      "cell_type": "code",
      "metadata": {
        "colab": {
          "base_uri": "https://localhost:8080/"
        },
        "id": "mv1r9Oygds5D",
        "outputId": "6e0f5e3b-5dc6-43ce-be85-0d30b9ad7c10"
      },
      "source": [
        "console_Manu_other = console_sales_year.groupby('Manufactor')['Other_Sales'].sum().reset_index()\n",
        "console_Manu_other"
      ],
      "execution_count": null,
      "outputs": [
        {
          "output_type": "execute_result",
          "data": {
            "text/html": [
              "<div>\n",
              "<style scoped>\n",
              "    .dataframe tbody tr th:only-of-type {\n",
              "        vertical-align: middle;\n",
              "    }\n",
              "\n",
              "    .dataframe tbody tr th {\n",
              "        vertical-align: top;\n",
              "    }\n",
              "\n",
              "    .dataframe thead th {\n",
              "        text-align: right;\n",
              "    }\n",
              "</style>\n",
              "<table border=\"1\" class=\"dataframe\">\n",
              "  <thead>\n",
              "    <tr style=\"text-align: right;\">\n",
              "      <th></th>\n",
              "      <th>Manufactor</th>\n",
              "      <th>Other_Sales</th>\n",
              "    </tr>\n",
              "  </thead>\n",
              "  <tbody>\n",
              "    <tr>\n",
              "      <th>0</th>\n",
              "      <td>Atari</td>\n",
              "      <td>0.75</td>\n",
              "    </tr>\n",
              "    <tr>\n",
              "      <th>1</th>\n",
              "      <td>Microsoft</td>\n",
              "      <td>15.82</td>\n",
              "    </tr>\n",
              "    <tr>\n",
              "      <th>2</th>\n",
              "      <td>Namco Bandai</td>\n",
              "      <td>0.00</td>\n",
              "    </tr>\n",
              "    <tr>\n",
              "      <th>3</th>\n",
              "      <td>Nintendo</td>\n",
              "      <td>48.35</td>\n",
              "    </tr>\n",
              "    <tr>\n",
              "      <th>4</th>\n",
              "      <td>Saga</td>\n",
              "      <td>1.01</td>\n",
              "    </tr>\n",
              "    <tr>\n",
              "      <th>5</th>\n",
              "      <td>Sony</td>\n",
              "      <td>86.34</td>\n",
              "    </tr>\n",
              "  </tbody>\n",
              "</table>\n",
              "</div>"
            ],
            "text/plain": [
              "     Manufactor  Other_Sales\n",
              "0         Atari         0.75\n",
              "1     Microsoft        15.82\n",
              "2  Namco Bandai         0.00\n",
              "3      Nintendo        48.35\n",
              "4          Saga         1.01\n",
              "5          Sony        86.34"
            ]
          },
          "metadata": {
            "tags": []
          },
          "execution_count": 44
        }
      ]
    },
    {
      "cell_type": "code",
      "metadata": {
        "colab": {
          "base_uri": "https://localhost:8080/"
        },
        "id": "7CW1saKcd3F_",
        "outputId": "134c1131-f070-4cb6-d71e-e266ecd32ee4"
      },
      "source": [
        "console_Manu_global = console_sales_year.groupby('Manufactor')['Global_Sales'].sum().reset_index()\n",
        "console_Manu_global"
      ],
      "execution_count": null,
      "outputs": [
        {
          "output_type": "execute_result",
          "data": {
            "text/html": [
              "<div>\n",
              "<style scoped>\n",
              "    .dataframe tbody tr th:only-of-type {\n",
              "        vertical-align: middle;\n",
              "    }\n",
              "\n",
              "    .dataframe tbody tr th {\n",
              "        vertical-align: top;\n",
              "    }\n",
              "\n",
              "    .dataframe thead th {\n",
              "        text-align: right;\n",
              "    }\n",
              "</style>\n",
              "<table border=\"1\" class=\"dataframe\">\n",
              "  <thead>\n",
              "    <tr style=\"text-align: right;\">\n",
              "      <th></th>\n",
              "      <th>Manufactor</th>\n",
              "      <th>Global_Sales</th>\n",
              "    </tr>\n",
              "  </thead>\n",
              "  <tbody>\n",
              "    <tr>\n",
              "      <th>0</th>\n",
              "      <td>Atari</td>\n",
              "      <td>27.64</td>\n",
              "    </tr>\n",
              "    <tr>\n",
              "      <th>1</th>\n",
              "      <td>Microsoft</td>\n",
              "      <td>160.75</td>\n",
              "    </tr>\n",
              "    <tr>\n",
              "      <th>2</th>\n",
              "      <td>Namco Bandai</td>\n",
              "      <td>1.12</td>\n",
              "    </tr>\n",
              "    <tr>\n",
              "      <th>3</th>\n",
              "      <td>Nintendo</td>\n",
              "      <td>801.30</td>\n",
              "    </tr>\n",
              "    <tr>\n",
              "      <th>4</th>\n",
              "      <td>Saga</td>\n",
              "      <td>57.18</td>\n",
              "    </tr>\n",
              "    <tr>\n",
              "      <th>5</th>\n",
              "      <td>Sony</td>\n",
              "      <td>571.38</td>\n",
              "    </tr>\n",
              "  </tbody>\n",
              "</table>\n",
              "</div>"
            ],
            "text/plain": [
              "     Manufactor  Global_Sales\n",
              "0         Atari         27.64\n",
              "1     Microsoft        160.75\n",
              "2  Namco Bandai          1.12\n",
              "3      Nintendo        801.30\n",
              "4          Saga         57.18\n",
              "5          Sony        571.38"
            ]
          },
          "metadata": {
            "tags": []
          },
          "execution_count": 45
        }
      ]
    },
    {
      "cell_type": "markdown",
      "metadata": {
        "id": "B00fzBe7SeVe"
      },
      "source": [
        "# **Visualize**"
      ]
    },
    {
      "cell_type": "markdown",
      "metadata": {
        "id": "7KLm83bhcb2d"
      },
      "source": [
        "## **Console_game**"
      ]
    },
    {
      "cell_type": "code",
      "metadata": {
        "colab": {
          "base_uri": "https://localhost:8080/"
        },
        "id": "ojTQ6snAS4vc",
        "outputId": "6d8d050a-ee87-49fd-ea22-a5a1f6c282b8"
      },
      "source": [
        "console_sales_year.head()"
      ],
      "execution_count": null,
      "outputs": [
        {
          "output_type": "execute_result",
          "data": {
            "text/html": [
              "<div>\n",
              "<style scoped>\n",
              "    .dataframe tbody tr th:only-of-type {\n",
              "        vertical-align: middle;\n",
              "    }\n",
              "\n",
              "    .dataframe tbody tr th {\n",
              "        vertical-align: top;\n",
              "    }\n",
              "\n",
              "    .dataframe thead th {\n",
              "        text-align: right;\n",
              "    }\n",
              "</style>\n",
              "<table border=\"1\" class=\"dataframe\">\n",
              "  <thead>\n",
              "    <tr style=\"text-align: right;\">\n",
              "      <th></th>\n",
              "      <th>Platform_Fullname</th>\n",
              "      <th>Platform</th>\n",
              "      <th>NA_Sales</th>\n",
              "      <th>EU_Sales</th>\n",
              "      <th>JP_Sales</th>\n",
              "      <th>Other_Sales</th>\n",
              "      <th>Global_Sales</th>\n",
              "      <th>Year</th>\n",
              "      <th>Manufactor</th>\n",
              "    </tr>\n",
              "  </thead>\n",
              "  <tbody>\n",
              "    <tr>\n",
              "      <th>0</th>\n",
              "      <td>PlayStation 2</td>\n",
              "      <td>PS2</td>\n",
              "      <td>53.65</td>\n",
              "      <td>55.28</td>\n",
              "      <td>23.18</td>\n",
              "      <td>25.57</td>\n",
              "      <td>157.68</td>\n",
              "      <td>2000</td>\n",
              "      <td>Sony</td>\n",
              "    </tr>\n",
              "    <tr>\n",
              "      <th>1</th>\n",
              "      <td>Nintendo DS</td>\n",
              "      <td>DS</td>\n",
              "      <td>57.39</td>\n",
              "      <td>52.07</td>\n",
              "      <td>33.01</td>\n",
              "      <td>12.43</td>\n",
              "      <td>154.90</td>\n",
              "      <td>1985</td>\n",
              "      <td>Nintendo</td>\n",
              "    </tr>\n",
              "    <tr>\n",
              "      <th>2</th>\n",
              "      <td>Game Boy</td>\n",
              "      <td>GB</td>\n",
              "      <td>43.18</td>\n",
              "      <td>40.05</td>\n",
              "      <td>32.47</td>\n",
              "      <td>2.99</td>\n",
              "      <td>118.69</td>\n",
              "      <td>1988</td>\n",
              "      <td>Nintendo</td>\n",
              "    </tr>\n",
              "    <tr>\n",
              "      <th>3</th>\n",
              "      <td>PlayStation 4</td>\n",
              "      <td>PS4</td>\n",
              "      <td>38.31</td>\n",
              "      <td>48.48</td>\n",
              "      <td>9.37</td>\n",
              "      <td>20.10</td>\n",
              "      <td>116.26</td>\n",
              "      <td>2013</td>\n",
              "      <td>Sony</td>\n",
              "    </tr>\n",
              "    <tr>\n",
              "      <th>4</th>\n",
              "      <td>PlayStation</td>\n",
              "      <td>PS</td>\n",
              "      <td>40.78</td>\n",
              "      <td>31.09</td>\n",
              "      <td>21.59</td>\n",
              "      <td>9.04</td>\n",
              "      <td>102.50</td>\n",
              "      <td>1994</td>\n",
              "      <td>Sony</td>\n",
              "    </tr>\n",
              "  </tbody>\n",
              "</table>\n",
              "</div>"
            ],
            "text/plain": [
              "  Platform_Fullname Platform  NA_Sales  ...  Global_Sales  Year  Manufactor\n",
              "0    PlayStation 2       PS2     53.65  ...        157.68  2000        Sony\n",
              "1      Nintendo DS        DS     57.39  ...        154.90  1985    Nintendo\n",
              "2         Game Boy        GB     43.18  ...        118.69  1988    Nintendo\n",
              "3    PlayStation 4       PS4     38.31  ...        116.26  2013        Sony\n",
              "4      PlayStation        PS     40.78  ...        102.50  1994        Sony\n",
              "\n",
              "[5 rows x 9 columns]"
            ]
          },
          "metadata": {
            "tags": []
          },
          "execution_count": 46
        }
      ]
    },
    {
      "cell_type": "code",
      "metadata": {
        "colab": {
          "base_uri": "https://localhost:8080/"
        },
        "id": "lVVmB8JsSLvu",
        "outputId": "a5ffcc81-a888-4954-eeec-cfb09c2c522d"
      },
      "source": [
        "plt.figure(figsize=(15,10))\n",
        "sns.barplot(data = console_sales_year,\n",
        "            x = 'Platform',\n",
        "            y = 'NA_Sales')\n",
        "plt.title('North America')\n",
        "plt.xlabel('Platform')\n",
        "plt.ylabel('Sales')\n",
        "plt.show()"
      ],
      "execution_count": null,
      "outputs": [
        {
          "output_type": "display_data",
          "data": {
            "image/png": "[encoded data removed]",
            "text/plain": [
              "<Figure size 1080x720 with 1 Axes>"
            ]
          },
          "metadata": {
            "tags": [],
            "needs_background": "light"
          }
        }
      ]
    },
    {
      "cell_type": "code",
      "metadata": {
        "colab": {
          "base_uri": "https://localhost:8080/"
        },
        "id": "oYbBS6hDUpb5",
        "outputId": "f8bdf5e1-987a-44ab-f82c-a74889d739c8"
      },
      "source": [
        "plt.figure(figsize=(15,10))\n",
        "sns.barplot(data = console_sales_year,\n",
        "            x = 'Platform',\n",
        "            y = 'EU_Sales')\n",
        "plt.title('Europe')\n",
        "plt.xlabel('Platform')\n",
        "plt.ylabel('Sales')\n",
        "plt.show()"
      ],
      "execution_count": null,
      "outputs": [
        {
          "output_type": "display_data",
          "data": {
            "image/png": "[encoded data removed]",
            "text/plain": [
              "<Figure size 1080x720 with 1 Axes>"
            ]
          },
          "metadata": {
            "tags": [],
            "needs_background": "light"
          }
        }
      ]
    },
    {
      "cell_type": "code",
      "metadata": {
        "colab": {
          "base_uri": "https://localhost:8080/"
        },
        "id": "lCN_OquhVGbi",
        "outputId": "e3f4b385-f832-4f8d-abc2-6119c4cefb62"
      },
      "source": [
        "plt.figure(figsize=(15,10))\n",
        "sns.barplot(data = console_sales_year,\n",
        "            x = 'Platform',\n",
        "            y = 'JP_Sales')\n",
        "plt.title('Japan')\n",
        "plt.xlabel('Platform')\n",
        "plt.ylabel('Sales')\n",
        "plt.show()"
      ],
      "execution_count": null,
      "outputs": [
        {
          "output_type": "display_data",
          "data": {
            "image/png": "[encoded data removed]",
            "text/plain": [
              "<Figure size 1080x720 with 1 Axes>"
            ]
          },
          "metadata": {
            "tags": [],
            "needs_background": "light"
          }
        }
      ]
    },
    {
      "cell_type": "code",
      "metadata": {
        "colab": {
          "base_uri": "https://localhost:8080/"
        },
        "id": "FqcufqbiVSeh",
        "outputId": "82efb219-a80f-45f3-f13d-add933a84cc2"
      },
      "source": [
        "plt.figure(figsize=(15,10))\n",
        "sns.barplot(data = console_sales_year,\n",
        "            x = 'Platform',\n",
        "            y = 'Other_Sales')\n",
        "plt.title('Orther')\n",
        "plt.xlabel('Platform')\n",
        "plt.ylabel('Sales')\n",
        "plt.show()"
      ],
      "execution_count": null,
      "outputs": [
        {
          "output_type": "display_data",
          "data": {
            "image/png": "[encoded data removed]",
            "text/plain": [
              "<Figure size 1080x720 with 1 Axes>"
            ]
          },
          "metadata": {
            "tags": [],
            "needs_background": "light"
          }
        }
      ]
    },
    {
      "cell_type": "code",
      "metadata": {
        "colab": {
          "base_uri": "https://localhost:8080/"
        },
        "id": "-kBoPhvlVihs",
        "outputId": "ef23450d-b722-4bf4-f6e8-2d2a724a57df"
      },
      "source": [
        "plt.figure(figsize=(15,10))\n",
        "sns.barplot(data = console_sales_year,\n",
        "            x = 'Platform',\n",
        "            y = 'Global_Sales')\n",
        "plt.title('Global')\n",
        "plt.xlabel('Platform')\n",
        "plt.ylabel('Sales')\n",
        "plt.show()"
      ],
      "execution_count": null,
      "outputs": [
        {
          "output_type": "display_data",
          "data": {
            "image/png": "[encoded data removed]",
            "text/plain": [
              "<Figure size 1080x720 with 1 Axes>"
            ]
          },
          "metadata": {
            "tags": [],
            "needs_background": "light"
          }
        }
      ]
    },
    {
      "cell_type": "code",
      "metadata": {
        "colab": {
          "base_uri": "https://localhost:8080/"
        },
        "id": "S3akNgR-V9nf",
        "outputId": "f16050c4-f442-4237-87ca-9cbe22e0a1d1"
      },
      "source": [
        "plt.figure(figsize=(40,15))\n",
        "plt.subplot(231)\n",
        "sns.barplot(data = console_sales_year,\n",
        "            x = 'Platform',\n",
        "            y = 'NA_Sales',\n",
        "            color = 'red')\n",
        "plt.title('North America')\n",
        "plt.xlabel('Platform')\n",
        "plt.ylabel('Sales')\n",
        "\n",
        "plt.subplot(232)\n",
        "sns.barplot(data = console_sales_year,\n",
        "            x = 'Platform',\n",
        "            y = 'EU_Sales',\n",
        "            color = 'blue')\n",
        "plt.title('Europe')\n",
        "plt.xlabel('Platform')\n",
        "plt.ylabel('Sales')\n",
        "\n",
        "plt.subplot(233)\n",
        "sns.barplot(data = console_sales_year,\n",
        "            x = 'Platform',\n",
        "            y = 'JP_Sales',\n",
        "            color = 'green')\n",
        "plt.title('Japan')\n",
        "plt.xlabel('Platform')\n",
        "plt.ylabel('Sales')\n",
        "\n",
        "plt.subplot(234)\n",
        "sns.barplot(data = console_sales_year,\n",
        "            x = 'Platform',\n",
        "            y = 'Other_Sales',\n",
        "            color = 'yellow')\n",
        "plt.title('Orther')\n",
        "plt.xlabel('Platform')\n",
        "plt.ylabel('Sales')\n",
        "\n",
        "plt.subplot(235)\n",
        "sns.barplot(data = console_sales_year,\n",
        "            x = 'Platform',\n",
        "            y = 'Global_Sales',\n",
        "            color = 'purple')\n",
        "plt.title('Global')\n",
        "plt.xlabel('Platform')\n",
        "plt.ylabel('Sales')\n",
        "plt.show()"
      ],
      "execution_count": null,
      "outputs": [
        {
          "output_type": "display_data",
          "data": {
            "image/png": "[encoded data removed]",
            "text/plain": [
              "<Figure size 2880x1080 with 5 Axes>"
            ]
          },
          "metadata": {
            "tags": [],
            "needs_background": "light"
          }
        }
      ]
    },
    {
      "cell_type": "code",
      "metadata": {
        "colab": {
          "base_uri": "https://localhost:8080/"
        },
        "id": "ilE_E0tYaGsR",
        "outputId": "d6ff4672-38fd-4538-a343-60133b14a24b"
      },
      "source": [
        "console_sales_year.plot(kind='bar',x='Platform',figsize=(30,15))"
      ],
      "execution_count": null,
      "outputs": [
        {
          "output_type": "execute_result",
          "data": {
            "text/plain": [
              "<matplotlib.axes._subplots.AxesSubplot at 0x7f78fc4bafd0>"
            ]
          },
          "metadata": {
            "tags": []
          },
          "execution_count": 53
        },
        {
          "output_type": "display_data",
          "data": {
            "image/png": "[encoded data removed]",
            "text/plain": [
              "<Figure size 2160x1080 with 1 Axes>"
            ]
          },
          "metadata": {
            "tags": [],
            "needs_background": "light"
          }
        }
      ]
    },
    {
      "cell_type": "code",
      "metadata": {
        "colab": {
          "base_uri": "https://localhost:8080/"
        },
        "id": "UansBtqzeamq",
        "outputId": "5c0bad50-dc2a-42de-ec9e-855961968def"
      },
      "source": [
        "plt.figure(figsize=(40,15))\n",
        "plt.subplot(231)\n",
        "sns.barplot(data = console_Manu_NA,\n",
        "            x = 'Manufactor',\n",
        "            y = 'NA_Sales',\n",
        "            color = 'red')\n",
        "plt.title('North America')\n",
        "plt.xlabel('Manufactor')\n",
        "plt.ylabel('Sales')\n",
        "\n",
        "plt.subplot(232)\n",
        "sns.barplot(data = console_Manu_EU,\n",
        "            x = 'Manufactor',\n",
        "            y = 'EU_Sales',\n",
        "            color = 'blue')\n",
        "plt.title('Europe')\n",
        "plt.xlabel('Manufactor')\n",
        "plt.ylabel('Sales')\n",
        "\n",
        "plt.subplot(233)\n",
        "sns.barplot(data = console_Manu_JP,\n",
        "            x = 'Manufactor',\n",
        "            y = 'JP_Sales',\n",
        "            color = 'green')\n",
        "plt.title('Japan')\n",
        "plt.xlabel('Manufactor')\n",
        "plt.ylabel('Sales')\n",
        "\n",
        "plt.subplot(234)\n",
        "sns.barplot(data = console_Manu_other,\n",
        "            x = 'Manufactor',\n",
        "            y = 'Other_Sales',\n",
        "            color = 'yellow')\n",
        "plt.title('Orther')\n",
        "plt.xlabel('Manufactor')\n",
        "plt.ylabel('Sales')\n",
        "\n",
        "plt.subplot(235)\n",
        "sns.barplot(data = console_Manu_global,\n",
        "            x = 'Manufactor',\n",
        "            y = 'Global_Sales',\n",
        "            color = 'purple')\n",
        "plt.title('Global')\n",
        "plt.xlabel('Manufactor')\n",
        "plt.ylabel('Sales')\n",
        "plt.show()"
      ],
      "execution_count": null,
      "outputs": [
        {
          "output_type": "display_data",
          "data": {
            "image/png": "[encoded data removed]",
            "text/plain": [
              "<Figure size 2880x1080 with 5 Axes>"
            ]
          },
          "metadata": {
            "tags": [],
            "needs_background": "light"
          }
        }
      ]
    },
    {
      "cell_type": "markdown",
      "metadata": {
        "id": "vfZ8acSgcVQk"
      },
      "source": [
        "## **console_sales_game**"
      ]
    },
    {
      "cell_type": "code",
      "metadata": {
        "colab": {
          "base_uri": "https://localhost:8080/"
        },
        "id": "8RMsF1rKchPw",
        "outputId": "e2273946-dfb8-4159-cc14-0ca08482461b"
      },
      "source": [
        "console_sales_game.head()"
      ],
      "execution_count": null,
      "outputs": [
        {
          "output_type": "execute_result",
          "data": {
            "text/html": [
              "<div>\n",
              "<style scoped>\n",
              "    .dataframe tbody tr th:only-of-type {\n",
              "        vertical-align: middle;\n",
              "    }\n",
              "\n",
              "    .dataframe tbody tr th {\n",
              "        vertical-align: top;\n",
              "    }\n",
              "\n",
              "    .dataframe thead th {\n",
              "        text-align: right;\n",
              "    }\n",
              "</style>\n",
              "<table border=\"1\" class=\"dataframe\">\n",
              "  <thead>\n",
              "    <tr style=\"text-align: right;\">\n",
              "      <th></th>\n",
              "      <th>Platform_Fullname</th>\n",
              "      <th>Platform</th>\n",
              "      <th>NA_Sales</th>\n",
              "      <th>EU_Sales</th>\n",
              "      <th>JP_Sales</th>\n",
              "      <th>Other_Sales</th>\n",
              "      <th>Global_Sales</th>\n",
              "    </tr>\n",
              "  </thead>\n",
              "  <tbody>\n",
              "    <tr>\n",
              "      <th>0</th>\n",
              "      <td>PlayStation 2</td>\n",
              "      <td>PS2</td>\n",
              "      <td>658.26</td>\n",
              "      <td>563.77</td>\n",
              "      <td>222.60</td>\n",
              "      <td>217.32</td>\n",
              "      <td>1661.95</td>\n",
              "    </tr>\n",
              "    <tr>\n",
              "      <th>1</th>\n",
              "      <td>Xbox 360</td>\n",
              "      <td>X360</td>\n",
              "      <td>610.56</td>\n",
              "      <td>281.93</td>\n",
              "      <td>12.90</td>\n",
              "      <td>102.64</td>\n",
              "      <td>1008.03</td>\n",
              "    </tr>\n",
              "    <tr>\n",
              "      <th>2</th>\n",
              "      <td>PlayStation 3</td>\n",
              "      <td>PS3</td>\n",
              "      <td>400.56</td>\n",
              "      <td>346.10</td>\n",
              "      <td>82.94</td>\n",
              "      <td>145.21</td>\n",
              "      <td>974.81</td>\n",
              "    </tr>\n",
              "    <tr>\n",
              "      <th>3</th>\n",
              "      <td>Wii</td>\n",
              "      <td>Wii</td>\n",
              "      <td>509.91</td>\n",
              "      <td>269.66</td>\n",
              "      <td>69.70</td>\n",
              "      <td>116.51</td>\n",
              "      <td>965.78</td>\n",
              "    </tr>\n",
              "    <tr>\n",
              "      <th>4</th>\n",
              "      <td>PlayStation</td>\n",
              "      <td>PS</td>\n",
              "      <td>357.97</td>\n",
              "      <td>280.90</td>\n",
              "      <td>244.10</td>\n",
              "      <td>79.04</td>\n",
              "      <td>962.01</td>\n",
              "    </tr>\n",
              "  </tbody>\n",
              "</table>\n",
              "</div>"
            ],
            "text/plain": [
              "  Platform_Fullname Platform  NA_Sales  ...  JP_Sales  Other_Sales  Global_Sales\n",
              "0    PlayStation 2       PS2    658.26  ...    222.60       217.32       1661.95\n",
              "1         Xbox 360      X360    610.56  ...     12.90       102.64       1008.03\n",
              "2    PlayStation 3       PS3    400.56  ...     82.94       145.21        974.81\n",
              "3              Wii       Wii    509.91  ...     69.70       116.51        965.78\n",
              "4      PlayStation        PS    357.97  ...    244.10        79.04        962.01\n",
              "\n",
              "[5 rows x 7 columns]"
            ]
          },
          "metadata": {
            "tags": []
          },
          "execution_count": 55
        }
      ]
    },
    {
      "cell_type": "code",
      "metadata": {
        "colab": {
          "base_uri": "https://localhost:8080/"
        },
        "id": "DEBE08dnckCA",
        "outputId": "ff625b9e-8f10-4319-b6d1-656ca85ceb35"
      },
      "source": [
        "plt.figure(figsize=(40,15))\n",
        "plt.subplot(231)\n",
        "sns.barplot(data = console_sales_game,\n",
        "            x = 'Platform',\n",
        "            y = 'NA_Sales',\n",
        "            color = 'red')\n",
        "plt.title('North America')\n",
        "plt.xlabel('Platform')\n",
        "plt.ylabel('Sales')\n",
        "\n",
        "plt.subplot(232)\n",
        "sns.barplot(data = console_sales_game,\n",
        "            x = 'Platform',\n",
        "            y = 'EU_Sales',\n",
        "            color = 'blue')\n",
        "plt.title('Europe')\n",
        "plt.xlabel('Platform')\n",
        "plt.ylabel('Sales')\n",
        "\n",
        "plt.subplot(233)\n",
        "sns.barplot(data = console_sales_game,\n",
        "            x = 'Platform',\n",
        "            y = 'JP_Sales',\n",
        "            color = 'green')\n",
        "plt.title('Japan')\n",
        "plt.xlabel('Platform')\n",
        "plt.ylabel('Sales')\n",
        "\n",
        "plt.subplot(234)\n",
        "sns.barplot(data = console_sales_game,\n",
        "            x = 'Platform',\n",
        "            y = 'Other_Sales',\n",
        "            color = 'yellow')\n",
        "plt.title('Orther')\n",
        "plt.xlabel('Platform')\n",
        "plt.ylabel('Sales')\n",
        "\n",
        "plt.subplot(235)\n",
        "sns.barplot(data = console_sales_game,\n",
        "            x = 'Platform',\n",
        "            y = 'Global_Sales',\n",
        "            color = 'purple')\n",
        "plt.title('Global')\n",
        "plt.xlabel('Platform')\n",
        "plt.ylabel('Sales')\n",
        "plt.show()"
      ],
      "execution_count": null,
      "outputs": [
        {
          "output_type": "display_data",
          "data": {
            "image/png": "[encoded data removed]",
            "text/plain": [
              "<Figure size 2880x1080 with 5 Axes>"
            ]
          },
          "metadata": {
            "tags": [],
            "needs_background": "light"
          }
        }
      ]
    },
    {
      "cell_type": "markdown",
      "metadata": {
        "id": "4zsIr_TEr9Ut"
      },
      "source": [
        "## **Console_ratio**"
      ]
    },
    {
      "cell_type": "code",
      "metadata": {
        "colab": {
          "base_uri": "https://localhost:8080/"
        },
        "id": "TIKkV5JisDn8",
        "outputId": "7280291f-7daa-45ff-b03e-e52119df60d9"
      },
      "source": [
        "console_sales_ratio.head()"
      ],
      "execution_count": null,
      "outputs": [
        {
          "output_type": "execute_result",
          "data": {
            "text/html": [
              "<div>\n",
              "<style scoped>\n",
              "    .dataframe tbody tr th:only-of-type {\n",
              "        vertical-align: middle;\n",
              "    }\n",
              "\n",
              "    .dataframe tbody tr th {\n",
              "        vertical-align: top;\n",
              "    }\n",
              "\n",
              "    .dataframe thead th {\n",
              "        text-align: right;\n",
              "    }\n",
              "</style>\n",
              "<table border=\"1\" class=\"dataframe\">\n",
              "  <thead>\n",
              "    <tr style=\"text-align: right;\">\n",
              "      <th></th>\n",
              "      <th>Platform_Fullname</th>\n",
              "      <th>Platform</th>\n",
              "      <th>NA_Sales</th>\n",
              "      <th>EU_Sales</th>\n",
              "      <th>JP_Sales</th>\n",
              "      <th>Other_Sales</th>\n",
              "      <th>Global_Sales</th>\n",
              "    </tr>\n",
              "  </thead>\n",
              "  <tbody>\n",
              "    <tr>\n",
              "      <th>0</th>\n",
              "      <td>Xbox 360</td>\n",
              "      <td>X360</td>\n",
              "      <td>12.43</td>\n",
              "      <td>10.90</td>\n",
              "      <td>7.77</td>\n",
              "      <td>11.21</td>\n",
              "      <td>11.75</td>\n",
              "    </tr>\n",
              "    <tr>\n",
              "      <th>1</th>\n",
              "      <td>PlayStation 3</td>\n",
              "      <td>PS3</td>\n",
              "      <td>13.62</td>\n",
              "      <td>9.89</td>\n",
              "      <td>7.92</td>\n",
              "      <td>11.59</td>\n",
              "      <td>11.15</td>\n",
              "    </tr>\n",
              "    <tr>\n",
              "      <th>2</th>\n",
              "      <td>Xbox</td>\n",
              "      <td>XB</td>\n",
              "      <td>12.16</td>\n",
              "      <td>9.20</td>\n",
              "      <td>7.32</td>\n",
              "      <td>8.33</td>\n",
              "      <td>11.01</td>\n",
              "    </tr>\n",
              "    <tr>\n",
              "      <th>3</th>\n",
              "      <td>PlayStation 2</td>\n",
              "      <td>PS2</td>\n",
              "      <td>12.27</td>\n",
              "      <td>10.20</td>\n",
              "      <td>9.60</td>\n",
              "      <td>8.50</td>\n",
              "      <td>10.54</td>\n",
              "    </tr>\n",
              "    <tr>\n",
              "      <th>4</th>\n",
              "      <td>GameCube</td>\n",
              "      <td>GC</td>\n",
              "      <td>10.76</td>\n",
              "      <td>9.01</td>\n",
              "      <td>6.82</td>\n",
              "      <td>8.52</td>\n",
              "      <td>9.60</td>\n",
              "    </tr>\n",
              "  </tbody>\n",
              "</table>\n",
              "</div>"
            ],
            "text/plain": [
              "  Platform_Fullname Platform  NA_Sales  ...  JP_Sales  Other_Sales  Global_Sales\n",
              "0         Xbox 360      X360     12.43  ...      7.77        11.21         11.75\n",
              "1    PlayStation 3       PS3     13.62  ...      7.92        11.59         11.15\n",
              "2             Xbox        XB     12.16  ...      7.32         8.33         11.01\n",
              "3    PlayStation 2       PS2     12.27  ...      9.60         8.50         10.54\n",
              "4         GameCube        GC     10.76  ...      6.82         8.52          9.60\n",
              "\n",
              "[5 rows x 7 columns]"
            ]
          },
          "metadata": {
            "tags": []
          },
          "execution_count": 57
        }
      ]
    },
    {
      "cell_type": "code",
      "metadata": {
        "colab": {
          "base_uri": "https://localhost:8080/"
        },
        "id": "YcdEW30asFxM",
        "outputId": "83389108-5ff2-434f-e842-e199548387c8"
      },
      "source": [
        "console_sales_ratio.plot(kind='bar',stacked=True,x='Platform',figsize=(20,10))"
      ],
      "execution_count": null,
      "outputs": [
        {
          "output_type": "execute_result",
          "data": {
            "text/plain": [
              "<matplotlib.axes._subplots.AxesSubplot at 0x7f78fbe79b50>"
            ]
          },
          "metadata": {
            "tags": []
          },
          "execution_count": 58
        },
        {
          "output_type": "display_data",
          "data": {
            "image/png": "[encoded data removed]",
            "text/plain": [
              "<Figure size 1440x720 with 1 Axes>"
            ]
          },
          "metadata": {
            "tags": [],
            "needs_background": "light"
          }
        }
      ]
    },
    {
      "cell_type": "markdown",
      "metadata": {
        "id": "tWs-MCii-ccq"
      },
      "source": [
        "# **Export Google Sheet**"
      ]
    },
    {
      "cell_type": "code",
      "metadata": {
        "id": "TfA6MqJjr58N",
        "colab": {
          "base_uri": "https://localhost:8080/"
        },
        "outputId": "77182581-7bea-49e3-946f-70646dd42945"
      },
      "source": [
        "# Connect to Google Sheets\n",
        "!pip install --upgrade oauth2client gspread"
      ],
      "execution_count": null,
      "outputs": [
        {
          "output_type": "stream",
          "text": [
            "Requirement already satisfied: oauth2client in /usr/local/lib/python3.7/dist-packages (4.1.3)\n",
            "Requirement already satisfied: gspread in /usr/local/lib/python3.7/dist-packages (4.0.1)\n",
            "Requirement already satisfied: pyasn1>=0.1.7 in /usr/local/lib/python3.7/dist-packages (from oauth2client) (0.4.8)\n",
            "Requirement already satisfied: httplib2>=0.9.1 in /usr/local/lib/python3.7/dist-packages (from oauth2client) (0.17.4)\n",
            "Requirement already satisfied: six>=1.6.1 in /usr/local/lib/python3.7/dist-packages (from oauth2client) (1.15.0)\n",
            "Requirement already satisfied: pyasn1-modules>=0.0.5 in /usr/local/lib/python3.7/dist-packages (from oauth2client) (0.2.8)\n",
            "Requirement already satisfied: rsa>=3.1.4 in /usr/local/lib/python3.7/dist-packages (from oauth2client) (4.7.2)\n",
            "Requirement already satisfied: google-auth>=1.12.0 in /usr/local/lib/python3.7/dist-packages (from gspread) (1.34.0)\n",
            "Requirement already satisfied: google-auth-oauthlib>=0.4.1 in /usr/local/lib/python3.7/dist-packages (from gspread) (0.4.5)\n",
            "Requirement already satisfied: cachetools<5.0,>=2.0.0 in /usr/local/lib/python3.7/dist-packages (from google-auth>=1.12.0->gspread) (4.2.2)\n",
            "Requirement already satisfied: setuptools>=40.3.0 in /usr/local/lib/python3.7/dist-packages (from google-auth>=1.12.0->gspread) (57.2.0)\n",
            "Requirement already satisfied: requests-oauthlib>=0.7.0 in /usr/local/lib/python3.7/dist-packages (from google-auth-oauthlib>=0.4.1->gspread) (1.3.0)\n",
            "Requirement already satisfied: oauthlib>=3.0.0 in /usr/local/lib/python3.7/dist-packages (from requests-oauthlib>=0.7.0->google-auth-oauthlib>=0.4.1->gspread) (3.1.1)\n",
            "Requirement already satisfied: requests>=2.0.0 in /usr/local/lib/python3.7/dist-packages (from requests-oauthlib>=0.7.0->google-auth-oauthlib>=0.4.1->gspread) (2.23.0)\n",
            "Requirement already satisfied: certifi>=2017.4.17 in /usr/local/lib/python3.7/dist-packages (from requests>=2.0.0->requests-oauthlib>=0.7.0->google-auth-oauthlib>=0.4.1->gspread) (2021.5.30)\n",
            "Requirement already satisfied: urllib3!=1.25.0,!=1.25.1,<1.26,>=1.21.1 in /usr/local/lib/python3.7/dist-packages (from requests>=2.0.0->requests-oauthlib>=0.7.0->google-auth-oauthlib>=0.4.1->gspread) (1.24.3)\n",
            "Requirement already satisfied: idna<3,>=2.5 in /usr/local/lib/python3.7/dist-packages (from requests>=2.0.0->requests-oauthlib>=0.7.0->google-auth-oauthlib>=0.4.1->gspread) (2.10)\n",
            "Requirement already satisfied: chardet<4,>=3.0.2 in /usr/local/lib/python3.7/dist-packages (from requests>=2.0.0->requests-oauthlib>=0.7.0->google-auth-oauthlib>=0.4.1->gspread) (3.0.4)\n"
          ],
          "name": "stdout"
        }
      ]
    },
    {
      "cell_type": "code",
      "metadata": {
        "id": "q_BGudJeds5Z"
      },
      "source": [
        "# Mount to Google Sheets \n",
        "from google.colab import auth\n",
        "auth.authenticate_user()\n",
        "\n",
        "# Import neccessary libraries\n",
        "import gspread\n",
        "from oauth2client.client import GoogleCredentials\n",
        "from gspread_dataframe import set_with_dataframe"
      ],
      "execution_count": null,
      "outputs": []
    },
    {
      "cell_type": "code",
      "metadata": {
        "id": "n0YqytNN7bMF"
      },
      "source": [
        "# Authorize Google Sheets API\n",
        "gc = gspread.authorize(GoogleCredentials.get_application_default())\n",
        "\n",
        "# Create a new Google Spreadsheets\n",
        "sh = gc.create('Console_Sales')\n",
        "\n",
        "# Choose the sheet to write\n",
        "worksheet = sh.get_worksheet(0) #-> 0 - first sheet, 1 - second sheet etc. \n",
        "\n",
        "# APPEND DATA TO SHEET\n",
        "set_with_dataframe(worksheet, console_sales_year) #-> THIS EXPORTS YOUR DATAFRAME TO THE GOOGLE SHEET"
      ],
      "execution_count": null,
      "outputs": []
    },
    {
      "cell_type": "code",
      "metadata": {
        "id": "GI3NCwVImH74"
      },
      "source": [
        "# Authorize Google Sheets API\n",
        "gc = gspread.authorize(GoogleCredentials.get_application_default())\n",
        "\n",
        "# In case you already have one --> Get the ID from Share --> key is the part behind /d/ and before /edit\n",
        "# https://docs.google.com/spreadsheets/d/1WISuNUrWc-7BPO2s-pD3P3qqqgiLh0wRpvTNNtN21gA/edit?usp=sharing\n",
        "sh = gc.open_by_key('1KoqZsdTAbVctYGVysN_-9uoAziejGn8zcmKURBckmmo')\n",
        "\n",
        "# Choose the sheet to write\n",
        "worksheet = sh.get_worksheet(1) #-> 0 - first sheet, 1 - second sheet etc. \n",
        "\n",
        "# APPEND DATA TO SHEET\n",
        "set_with_dataframe(worksheet, console_sales_game) #-> THIS EXPORTS YOUR DATAFRAME TO THE GOOGLE SHEET\n",
        "\n",
        "worksheet = sh.get_worksheet(2) #-> 0 - first sheet, 1 - second sheet etc. \n",
        "\n",
        "# APPEND DATA TO SHEET\n",
        "set_with_dataframe(worksheet, console_sales_ratio) #-> THIS EXPORTS YOUR DATAFRAME TO THE GOOGLE SHEET\n",
        "\n",
        "worksheet = sh.get_worksheet(3) #-> 0 - first sheet, 1 - second sheet etc. \n",
        "\n",
        "# APPEND DATA TO SHEET\n",
        "set_with_dataframe(worksheet, console_Manu_global) #-> THIS EXPORTS YOUR DATAFRAME TO THE GOOGLE SHEET\n",
        "\n",
        "worksheet = sh.get_worksheet(4) #-> 0 - first sheet, 1 - second sheet etc. \n",
        "\n",
        "# APPEND DATA TO SHEET\n",
        "set_with_dataframe(worksheet, console_Manu_other) #-> THIS EXPORTS YOUR DATAFRAME TO THE GOOGLE SHEET\n",
        "\n",
        "worksheet = sh.get_worksheet(5) #-> 0 - first sheet, 1 - second sheet etc. \n",
        "\n",
        "# APPEND DATA TO SHEET\n",
        "set_with_dataframe(worksheet, console_Manu_JP) #-> THIS EXPORTS YOUR DATAFRAME TO THE GOOGLE SHEET\n",
        "\n",
        "worksheet = sh.get_worksheet(6) #-> 0 - first sheet, 1 - second sheet etc. \n",
        "\n",
        "# APPEND DATA TO SHEET\n",
        "set_with_dataframe(worksheet, console_Manu_NA) #-> THIS EXPORTS YOUR DATAFRAME TO THE GOOGLE SHEET\n",
        "\n",
        "worksheet = sh.get_worksheet(7) #-> 0 - first sheet, 1 - second sheet etc. \n",
        "\n",
        "# APPEND DATA TO SHEET\n",
        "set_with_dataframe(worksheet, console_Manu_EU) #-> THIS EXPORTS YOUR DATAFRAME TO THE GOOGLE SHEET\n",
        "\n"
      ],
      "execution_count": null,
      "outputs": []
    }
  ]
}